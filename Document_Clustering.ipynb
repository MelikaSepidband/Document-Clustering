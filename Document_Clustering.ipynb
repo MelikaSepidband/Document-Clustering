{
 "cells": [
  {
   "cell_type": "markdown",
   "id": "1f57ec97",
   "metadata": {},
   "source": [
    "# import libraries"
   ]
  },
  {
   "cell_type": "code",
   "execution_count": 1,
   "id": "d25372e5",
   "metadata": {},
   "outputs": [],
   "source": [
    "import pandas as pd\n",
    "import numpy as np\n",
    "import scipy.io\n",
    "import math\n",
    "from sklearn.cluster import KMeans\n",
    "from sklearn.decomposition import NMF"
   ]
  },
  {
   "cell_type": "markdown",
   "id": "ffffe068",
   "metadata": {},
   "source": [
    "# function for Kmeans"
   ]
  },
  {
   "cell_type": "code",
   "execution_count": 2,
   "id": "e225af1f",
   "metadata": {},
   "outputs": [],
   "source": [
    "def kmeans(num_clusters,matrix):\n",
    "    kmeans = KMeans(n_clusters=num_clusters, random_state=0).fit(matrix)\n",
    "    clusters=kmeans.predict(matrix)\n",
    "    return clusters"
   ]
  },
  {
   "cell_type": "markdown",
   "id": "a5391877",
   "metadata": {},
   "source": [
    "# function for NMF"
   ]
  },
  {
   "cell_type": "code",
   "execution_count": 3,
   "id": "1896e0d3",
   "metadata": {},
   "outputs": [],
   "source": [
    "def nmf(num_clusters,matrix):\n",
    "    model = NMF(n_components=num_clusters,init='nndsvda', random_state=0)\n",
    "    W = model.fit_transform(matrix)\n",
    "    H = model.components_\n",
    "    return W,H"
   ]
  },
  {
   "cell_type": "markdown",
   "id": "78e7555c",
   "metadata": {},
   "source": [
    "# number of documents in each cluster"
   ]
  },
  {
   "cell_type": "code",
   "execution_count": 4,
   "id": "a72654ae",
   "metadata": {},
   "outputs": [],
   "source": [
    "def num_of_docs_each_cluster(num_clusters,list):\n",
    "    counter_clusters = np.zeros((num_clusters))\n",
    "    for i in list:\n",
    "        counter_clusters[i] = counter_clusters[i] + 1\n",
    "    counter_clusters=np.array(counter_clusters)\n",
    "    return counter_clusters"
   ]
  },
  {
   "cell_type": "markdown",
   "id": "66bdc78d",
   "metadata": {},
   "source": [
    "# function for Purity"
   ]
  },
  {
   "cell_type": "code",
   "execution_count": 5,
   "id": "24f784be",
   "metadata": {},
   "outputs": [],
   "source": [
    "def purity(num_clusters,list1,list2):\n",
    "    sum=0\n",
    "    for i in range(num_clusters):\n",
    "        counter1 = np.zeros((num_clusters))\n",
    "        w=0\n",
    "        for j in range(len(list1)):\n",
    "            k=int(list1[j])\n",
    "            t = w + k\n",
    "            for j2 in list2[w:t]:\n",
    "                if(j2==i):\n",
    "                    counter1[j]=counter1[j] + 1\n",
    "            w=t \n",
    "        sum=sum+max(counter1)\n",
    "    purity=sum/ int(np.sum(list1))\n",
    "    return purity"
   ]
  },
  {
   "cell_type": "markdown",
   "id": "5c936d9c",
   "metadata": {},
   "source": [
    "# function for Entropy"
   ]
  },
  {
   "cell_type": "code",
   "execution_count": 6,
   "id": "a7b48a86",
   "metadata": {},
   "outputs": [],
   "source": [
    "def entropy(num_clusters,list1,list2):\n",
    "    sum2=0\n",
    "    for i in range(num_clusters):\n",
    "        sum1=0\n",
    "        w=0\n",
    "        for j in range(len(list1)):\n",
    "            counter2=0\n",
    "            k=int(list1[j])\n",
    "            t = w + k\n",
    "            for j2 in list2[w:t]:\n",
    "                if(j2==i):\n",
    "                    counter2 +=1\n",
    "            w=t\n",
    "            if(counter2 !=0):\n",
    "                sum1=sum1+ counter2* (math.log(counter2/(int(num_of_docs_each_cluster(num_clusters,list2)[i]))))\n",
    "        sum2=sum2+sum1\n",
    "    entropy= (-1)*sum2/ (int(np.sum(list1)*math.log(len(list1))))\n",
    "    return entropy"
   ]
  },
  {
   "cell_type": "markdown",
   "id": "44da02ec",
   "metadata": {},
   "source": [
    "# TDT2 dataset"
   ]
  },
  {
   "cell_type": "code",
   "execution_count": 7,
   "id": "5e4ebff9",
   "metadata": {},
   "outputs": [
    {
     "data": {
      "text/plain": [
       "{'__header__': b'MATLAB 5.0 MAT-file, Platform: PCWIN, Created on: Wed Apr 25 13:53:55 2007',\n",
       " '__version__': '1.0',\n",
       " '__globals__': [],\n",
       " 'gnd': array([[ 1],\n",
       "        [ 1],\n",
       "        [ 1],\n",
       "        ...,\n",
       "        [30],\n",
       "        [30],\n",
       "        [30]], dtype=uint8),\n",
       " 'fea': <9394x36771 sparse matrix of type '<class 'numpy.float64'>'\n",
       " \twith 1224135 stored elements in Compressed Sparse Column format>}"
      ]
     },
     "execution_count": 7,
     "metadata": {},
     "output_type": "execute_result"
    }
   ],
   "source": [
    "mat_tdt2 = scipy.io.loadmat('TDT2.mat')\n",
    "mat_tdt2"
   ]
  },
  {
   "cell_type": "code",
   "execution_count": 8,
   "id": "b671c620",
   "metadata": {},
   "outputs": [],
   "source": [
    "fea_tdt2 = mat_tdt2.get('fea')\n",
    "gnd_tdt2 = mat_tdt2.get('gnd')"
   ]
  },
  {
   "cell_type": "markdown",
   "id": "c98b1bea",
   "metadata": {},
   "source": [
    "## number of documents in each category"
   ]
  },
  {
   "cell_type": "code",
   "execution_count": 9,
   "id": "f76d1b9b",
   "metadata": {},
   "outputs": [
    {
     "data": {
      "text/plain": [
       "array([1844., 1828., 1222.,  811.,  441.,  407.,  272.,  238.,  226.,\n",
       "        167.,  160.,  145.,  141.,  140.,  131.,  123.,  123.,  120.,\n",
       "        104.,   98.,   76.,   74.,   72.,   71.,   66.,   65.,   63.,\n",
       "         58.,   56.,   52.])"
      ]
     },
     "execution_count": 9,
     "metadata": {},
     "output_type": "execute_result"
    }
   ],
   "source": [
    "counter_tdt2 = np.zeros((30))\n",
    "for i in gnd_tdt2:\n",
    "    counter_tdt2[i-1] = counter_tdt2[i-1] + 1\n",
    "counter_tdt2=np.array(counter_tdt2)\n",
    "counter_tdt2"
   ]
  },
  {
   "cell_type": "code",
   "execution_count": 10,
   "id": "07ef0236",
   "metadata": {},
   "outputs": [],
   "source": [
    "Top10_tdt2 = counter_tdt2[:10]\n",
    "Last10_tdt2 =counter_tdt2[-10:]"
   ]
  },
  {
   "cell_type": "code",
   "execution_count": 11,
   "id": "f7241095",
   "metadata": {},
   "outputs": [
    {
     "data": {
      "text/plain": [
       "array([1844., 1828., 1222.,  811.,  441.,  407.,  272.,  238.,  226.,\n",
       "        167.])"
      ]
     },
     "execution_count": 11,
     "metadata": {},
     "output_type": "execute_result"
    }
   ],
   "source": [
    "Top10_tdt2"
   ]
  },
  {
   "cell_type": "code",
   "execution_count": 12,
   "id": "7c781078",
   "metadata": {},
   "outputs": [
    {
     "data": {
      "text/plain": [
       "7456.0"
      ]
     },
     "execution_count": 12,
     "metadata": {},
     "output_type": "execute_result"
    }
   ],
   "source": [
    "num_top10_tdt2=np.sum(Top10_tdt2)\n",
    "num_top10_tdt2"
   ]
  },
  {
   "cell_type": "code",
   "execution_count": 13,
   "id": "abaaf1cd",
   "metadata": {},
   "outputs": [
    {
     "data": {
      "text/plain": [
       "[185, 183, 123, 82, 45, 41, 28, 24, 23, 17]"
      ]
     },
     "execution_count": 13,
     "metadata": {},
     "output_type": "execute_result"
    }
   ],
   "source": [
    "Top10_tdt2_10percent=[]\n",
    "for a in Top10_tdt2:\n",
    "    Top10_tdt2_10percent.append(math.ceil(a*0.1))\n",
    "Top10_tdt2_10percent"
   ]
  },
  {
   "cell_type": "code",
   "execution_count": 14,
   "id": "07e33c4e",
   "metadata": {},
   "outputs": [
    {
     "data": {
      "text/plain": [
       "751"
      ]
     },
     "execution_count": 14,
     "metadata": {},
     "output_type": "execute_result"
    }
   ],
   "source": [
    "num_top10_tdt2_10percent=np.sum(Top10_tdt2_10percent)\n",
    "num_top10_tdt2_10percent"
   ]
  },
  {
   "cell_type": "code",
   "execution_count": 15,
   "id": "44756492",
   "metadata": {},
   "outputs": [
    {
     "data": {
      "text/plain": [
       "array([76., 74., 72., 71., 66., 65., 63., 58., 56., 52.])"
      ]
     },
     "execution_count": 15,
     "metadata": {},
     "output_type": "execute_result"
    }
   ],
   "source": [
    "Last10_tdt2"
   ]
  },
  {
   "cell_type": "code",
   "execution_count": 16,
   "id": "b7cc9926",
   "metadata": {},
   "outputs": [
    {
     "data": {
      "text/plain": [
       "653.0"
      ]
     },
     "execution_count": 16,
     "metadata": {},
     "output_type": "execute_result"
    }
   ],
   "source": [
    "num_last10_tdt2=np.sum(Last10_tdt2)\n",
    "num_last10_tdt2"
   ]
  },
  {
   "cell_type": "code",
   "execution_count": 17,
   "id": "c4462c0c",
   "metadata": {},
   "outputs": [
    {
     "name": "stdout",
     "output_type": "stream",
     "text": [
      "9394\n",
      "36771\n"
     ]
    }
   ],
   "source": [
    "satr_tdt2=fea_tdt2.shape[0]\n",
    "sotoon_tdt2=fea_tdt2.shape[1]\n",
    "print(satr_tdt2)\n",
    "print(sotoon_tdt2)"
   ]
  },
  {
   "cell_type": "code",
   "execution_count": 18,
   "id": "1de2cc1a",
   "metadata": {},
   "outputs": [
    {
     "data": {
      "text/plain": [
       "array([[2., 1., 0., ..., 0., 0., 0.],\n",
       "       [0., 0., 0., ..., 0., 0., 0.],\n",
       "       [0., 0., 0., ..., 0., 0., 0.],\n",
       "       ...,\n",
       "       [0., 0., 0., ..., 0., 0., 0.],\n",
       "       [0., 2., 0., ..., 0., 0., 0.],\n",
       "       [0., 2., 2., ..., 0., 0., 0.]])"
      ]
     },
     "execution_count": 18,
     "metadata": {},
     "output_type": "execute_result"
    }
   ],
   "source": [
    "matrix_tdt2 = fea_tdt2.toarray()\n",
    "matrix_tdt2"
   ]
  },
  {
   "cell_type": "code",
   "execution_count": 19,
   "id": "733e4be9",
   "metadata": {},
   "outputs": [
    {
     "data": {
      "text/plain": [
       "(9394, 36771)"
      ]
     },
     "execution_count": 19,
     "metadata": {},
     "output_type": "execute_result"
    }
   ],
   "source": [
    "np.shape(matrix_tdt2)"
   ]
  },
  {
   "cell_type": "markdown",
   "id": "a91fac2a",
   "metadata": {},
   "source": [
    "## Top 10 of TDT2"
   ]
  },
  {
   "cell_type": "code",
   "execution_count": 20,
   "id": "79b6c59c",
   "metadata": {},
   "outputs": [
    {
     "data": {
      "text/plain": [
       "array([[2., 1., 0., ..., 0., 0., 0.],\n",
       "       [0., 0., 0., ..., 0., 0., 0.],\n",
       "       [0., 0., 0., ..., 0., 0., 0.],\n",
       "       ...,\n",
       "       [0., 0., 0., ..., 0., 0., 0.],\n",
       "       [0., 0., 0., ..., 0., 0., 0.],\n",
       "       [0., 6., 0., ..., 0., 0., 0.]])"
      ]
     },
     "execution_count": 20,
     "metadata": {},
     "output_type": "execute_result"
    }
   ],
   "source": [
    "matrix_tdt2_top10=matrix_tdt2[:int(num_top10_tdt2)]\n",
    "matrix_tdt2_top10"
   ]
  },
  {
   "cell_type": "code",
   "execution_count": 21,
   "id": "ba9577d5",
   "metadata": {},
   "outputs": [
    {
     "data": {
      "text/plain": [
       "(7456, 36771)"
      ]
     },
     "execution_count": 21,
     "metadata": {},
     "output_type": "execute_result"
    }
   ],
   "source": [
    "matrix_tdt2_top10.shape"
   ]
  },
  {
   "cell_type": "code",
   "execution_count": 26,
   "id": "8fe39508",
   "metadata": {},
   "outputs": [],
   "source": [
    "matrix_tdt2_top10_10percent=[]\n",
    "e=0\n",
    "for i in range(10):\n",
    "    tp=Top10_tdt2_10percent[i]\n",
    "    mp=matrix_tdt2_top10[e:e+tp]\n",
    "    for j in mp:\n",
    "        matrix_tdt2_top10_10percent.append(list(j))\n",
    "    e+=int(Top10_tdt2[i])"
   ]
  },
  {
   "cell_type": "code",
   "execution_count": 27,
   "id": "35a78325",
   "metadata": {},
   "outputs": [
    {
     "data": {
      "text/plain": [
       "(751, 36771)"
      ]
     },
     "execution_count": 27,
     "metadata": {},
     "output_type": "execute_result"
    }
   ],
   "source": [
    "np.shape(matrix_tdt2_top10_10percent)"
   ]
  },
  {
   "cell_type": "markdown",
   "id": "ea858d5a",
   "metadata": {},
   "source": [
    "### Kmeans for Top 10 of TDT2"
   ]
  },
  {
   "cell_type": "code",
   "execution_count": 28,
   "id": "79e46488",
   "metadata": {},
   "outputs": [],
   "source": [
    "clusters_tdt2_top10=kmeans(10,matrix_tdt2_top10_10percent)"
   ]
  },
  {
   "cell_type": "markdown",
   "id": "deff864a",
   "metadata": {},
   "source": [
    "#### clusters of documents with Kmeans for Top 10 of TDT2"
   ]
  },
  {
   "cell_type": "code",
   "execution_count": 29,
   "id": "b35dc0ae",
   "metadata": {},
   "outputs": [
    {
     "data": {
      "text/plain": [
       "array([2, 1, 1, 1, 1, 1, 2, 1, 1, 1, 1, 1, 1, 1, 1, 1, 1, 1, 1, 1, 1, 1,\n",
       "       1, 1, 1, 1, 1, 1, 1, 1, 1, 1, 1, 1, 1, 1, 1, 1, 1, 1, 1, 1, 1, 1,\n",
       "       1, 1, 1, 1, 1, 1, 1, 1, 1, 1, 1, 1, 1, 1, 1, 1, 1, 1, 1, 1, 1, 1,\n",
       "       1, 1, 1, 1, 1, 1, 1, 1, 1, 1, 1, 1, 1, 1, 1, 1, 1, 1, 1, 1, 1, 1,\n",
       "       1, 1, 1, 1, 1, 1, 1, 1, 1, 1, 1, 1, 1, 1, 1, 1, 1, 1, 1, 1, 1, 1,\n",
       "       1, 1, 1, 1, 1, 1, 1, 1, 1, 1, 1, 1, 1, 1, 1, 1, 1, 1, 1, 1, 1, 1,\n",
       "       1, 1, 1, 1, 1, 1, 1, 1, 1, 1, 1, 1, 1, 1, 1, 1, 1, 1, 1, 1, 1, 1,\n",
       "       1, 1, 1, 1, 1, 1, 1, 1, 1, 1, 1, 1, 1, 1, 1, 1, 1, 1, 1, 1, 1, 1,\n",
       "       1, 1, 1, 1, 1, 1, 1, 1, 0, 1, 1, 1, 1, 1, 1, 2, 1, 1, 7, 1, 7, 1,\n",
       "       8, 9, 1, 7, 1, 1, 7, 7, 7, 8, 8, 8, 8, 1, 7, 7, 1, 1, 1, 1, 7, 7,\n",
       "       8, 1, 8, 8, 7, 7, 7, 8, 8, 1, 8, 7, 7, 1, 1, 7, 7, 7, 7, 1, 1, 7,\n",
       "       7, 1, 1, 8, 1, 1, 7, 8, 7, 1, 7, 1, 1, 7, 1, 7, 7, 7, 1, 1, 8, 1,\n",
       "       1, 7, 8, 1, 7, 7, 7, 7, 7, 8, 7, 7, 7, 1, 7, 7, 7, 7, 1, 8, 8, 1,\n",
       "       1, 7, 7, 7, 7, 7, 3, 1, 3, 1, 7, 3, 7, 3, 3, 3, 3, 7, 7, 7, 7, 6,\n",
       "       6, 6, 6, 6, 7, 1, 7, 7, 7, 7, 7, 7, 1, 7, 1, 7, 7, 7, 1, 1, 7, 7,\n",
       "       7, 7, 8, 8, 7, 7, 1, 7, 7, 7, 7, 7, 7, 7, 7, 1, 7, 7, 7, 7, 7, 7,\n",
       "       7, 7, 7, 1, 7, 1, 1, 1, 1, 1, 7, 1, 1, 1, 1, 1, 2, 2, 2, 1, 1, 2,\n",
       "       2, 2, 2, 2, 2, 1, 2, 1, 2, 2, 2, 1, 1, 1, 1, 1, 1, 1, 1, 1, 1, 1,\n",
       "       1, 7, 1, 1, 1, 1, 1, 1, 1, 1, 1, 1, 1, 1, 1, 1, 1, 1, 1, 1, 1, 1,\n",
       "       1, 1, 1, 1, 1, 1, 1, 1, 1, 1, 1, 1, 1, 1, 1, 1, 1, 1, 1, 1, 1, 1,\n",
       "       1, 1, 1, 1, 1, 1, 1, 1, 1, 1, 1, 1, 1, 1, 1, 1, 1, 1, 1, 1, 1, 1,\n",
       "       1, 1, 1, 1, 1, 1, 1, 1, 1, 1, 1, 1, 1, 1, 1, 1, 1, 1, 1, 1, 1, 1,\n",
       "       1, 1, 1, 1, 1, 1, 1, 1, 1, 1, 2, 0, 1, 1, 1, 1, 1, 1, 0, 1, 0, 0,\n",
       "       1, 1, 4, 1, 4, 4, 0, 4, 1, 4, 1, 1, 1, 4, 1, 0, 0, 1, 1, 0, 0, 0,\n",
       "       0, 0, 1, 0, 0, 0, 0, 0, 0, 0, 0, 0, 0, 0, 0, 1, 0, 1, 1, 1, 1, 1,\n",
       "       1, 1, 1, 1, 1, 1, 1, 1, 1, 1, 1, 1, 1, 1, 1, 1, 1, 1, 1, 1, 1, 1,\n",
       "       1, 1, 1, 1, 1, 1, 1, 1, 1, 1, 1, 1, 1, 1, 1, 1, 1, 1, 1, 1, 1, 1,\n",
       "       1, 1, 1, 1, 1, 2, 1, 1, 1, 1, 1, 2, 1, 1, 1, 1, 1, 1, 2, 2, 1, 1,\n",
       "       1, 1, 1, 2, 2, 1, 2, 1, 1, 1, 1, 1, 1, 1, 1, 1, 1, 1, 1, 1, 1, 1,\n",
       "       1, 1, 1, 1, 1, 1, 1, 1, 1, 1, 1, 1, 1, 1, 1, 1, 1, 1, 1, 1, 1, 1,\n",
       "       1, 1, 1, 1, 1, 1, 1, 1, 1, 1, 1, 1, 1, 1, 1, 1, 1, 1, 1, 1, 5, 1,\n",
       "       1, 1, 1, 1, 1, 8, 8, 8, 8, 1, 1, 8, 8, 8, 8, 8, 1, 1, 1, 1, 1, 8,\n",
       "       8, 8, 8, 8, 8, 8, 8, 1, 1, 2, 1, 2, 1, 1, 1, 1, 1, 1, 1, 1, 1, 1,\n",
       "       1, 1, 1, 1, 1, 1, 1, 1, 1, 1, 1, 1, 1, 1, 1, 1, 1, 1, 1, 1, 1, 1,\n",
       "       1, 1, 1])"
      ]
     },
     "execution_count": 29,
     "metadata": {},
     "output_type": "execute_result"
    }
   ],
   "source": [
    "clusters_tdt2_top10"
   ]
  },
  {
   "cell_type": "code",
   "execution_count": 30,
   "id": "2e4f3723",
   "metadata": {},
   "outputs": [
    {
     "data": {
      "text/plain": [
       "(751,)"
      ]
     },
     "execution_count": 30,
     "metadata": {},
     "output_type": "execute_result"
    }
   ],
   "source": [
    "clusters_tdt2_top10.shape"
   ]
  },
  {
   "cell_type": "markdown",
   "id": "ee6f8e07",
   "metadata": {},
   "source": [
    "#### number of documents in each cluster"
   ]
  },
  {
   "cell_type": "code",
   "execution_count": 31,
   "id": "eda68d43",
   "metadata": {},
   "outputs": [
    {
     "data": {
      "text/plain": [
       "array([ 26., 553.,  26.,   7.,   6.,   1.,   5.,  89.,  37.,   1.])"
      ]
     },
     "execution_count": 31,
     "metadata": {},
     "output_type": "execute_result"
    }
   ],
   "source": [
    "num_of_docs_each_cluster(10,clusters_tdt2_top10)"
   ]
  },
  {
   "cell_type": "markdown",
   "id": "0eb818e8",
   "metadata": {},
   "source": [
    "#### purity of Kmeans clustering for Top 10 of TDT2"
   ]
  },
  {
   "cell_type": "code",
   "execution_count": 32,
   "id": "665f5f49",
   "metadata": {},
   "outputs": [
    {
     "data": {
      "text/plain": [
       "0.4633821571238349"
      ]
     },
     "execution_count": 32,
     "metadata": {},
     "output_type": "execute_result"
    }
   ],
   "source": [
    "purity_kmeans_top10_tdt2=purity(10,Top10_tdt2_10percent,clusters_tdt2_top10)\n",
    "purity_kmeans_top10_tdt2"
   ]
  },
  {
   "cell_type": "markdown",
   "id": "04e60ce8",
   "metadata": {},
   "source": [
    "#### entropy of Kmeans clustering for Top 10 of TDT2"
   ]
  },
  {
   "cell_type": "code",
   "execution_count": 33,
   "id": "03119c00",
   "metadata": {},
   "outputs": [
    {
     "data": {
      "text/plain": [
       "0.6693741797162261"
      ]
     },
     "execution_count": 33,
     "metadata": {},
     "output_type": "execute_result"
    }
   ],
   "source": [
    "entropy_kmeans_top10_tdt2=entropy(10,Top10_tdt2_10percent,clusters_tdt2_top10)\n",
    "entropy_kmeans_top10_tdt2"
   ]
  },
  {
   "cell_type": "markdown",
   "id": "71a1049e",
   "metadata": {},
   "source": [
    "### NMF for Top 10 of TDT2"
   ]
  },
  {
   "cell_type": "code",
   "execution_count": 34,
   "id": "db5f66e9",
   "metadata": {},
   "outputs": [],
   "source": [
    "W_tdt2_top10,H_tdt2_top10=nmf(10,matrix_tdt2_top10_10percent)"
   ]
  },
  {
   "cell_type": "code",
   "execution_count": 35,
   "id": "2d7e4c9f",
   "metadata": {},
   "outputs": [
    {
     "data": {
      "text/plain": [
       "(751, 10)"
      ]
     },
     "execution_count": 35,
     "metadata": {},
     "output_type": "execute_result"
    }
   ],
   "source": [
    "W_tdt2_top10.shape"
   ]
  },
  {
   "cell_type": "code",
   "execution_count": 36,
   "id": "9d1fa338",
   "metadata": {},
   "outputs": [
    {
     "data": {
      "text/plain": [
       "(10, 36771)"
      ]
     },
     "execution_count": 36,
     "metadata": {},
     "output_type": "execute_result"
    }
   ],
   "source": [
    "H_tdt2_top10.shape"
   ]
  },
  {
   "cell_type": "markdown",
   "id": "1a3c86e1",
   "metadata": {},
   "source": [
    "#### clusters of documents with NMF for Top 10 of TDT2"
   ]
  },
  {
   "cell_type": "code",
   "execution_count": 37,
   "id": "0ac6ec99",
   "metadata": {},
   "outputs": [
    {
     "data": {
      "text/plain": [
       "[2,\n",
       " 2,\n",
       " 2,\n",
       " 2,\n",
       " 2,\n",
       " 2,\n",
       " 2,\n",
       " 9,\n",
       " 6,\n",
       " 9,\n",
       " 6,\n",
       " 1,\n",
       " 1,\n",
       " 6,\n",
       " 7,\n",
       " 6,\n",
       " 1,\n",
       " 1,\n",
       " 6,\n",
       " 6,\n",
       " 6,\n",
       " 6,\n",
       " 9,\n",
       " 6,\n",
       " 9,\n",
       " 9,\n",
       " 6,\n",
       " 9,\n",
       " 1,\n",
       " 6,\n",
       " 6,\n",
       " 1,\n",
       " 6,\n",
       " 9,\n",
       " 1,\n",
       " 9,\n",
       " 6,\n",
       " 6,\n",
       " 1,\n",
       " 6,\n",
       " 6,\n",
       " 1,\n",
       " 1,\n",
       " 1,\n",
       " 9,\n",
       " 6,\n",
       " 6,\n",
       " 1,\n",
       " 6,\n",
       " 1,\n",
       " 1,\n",
       " 9,\n",
       " 6,\n",
       " 6,\n",
       " 6,\n",
       " 1,\n",
       " 1,\n",
       " 1,\n",
       " 9,\n",
       " 9,\n",
       " 6,\n",
       " 1,\n",
       " 1,\n",
       " 6,\n",
       " 1,\n",
       " 6,\n",
       " 7,\n",
       " 1,\n",
       " 6,\n",
       " 1,\n",
       " 9,\n",
       " 6,\n",
       " 4,\n",
       " 6,\n",
       " 8,\n",
       " 6,\n",
       " 1,\n",
       " 1,\n",
       " 1,\n",
       " 9,\n",
       " 9,\n",
       " 6,\n",
       " 9,\n",
       " 9,\n",
       " 1,\n",
       " 6,\n",
       " 9,\n",
       " 6,\n",
       " 9,\n",
       " 6,\n",
       " 6,\n",
       " 6,\n",
       " 6,\n",
       " 6,\n",
       " 9,\n",
       " 6,\n",
       " 6,\n",
       " 1,\n",
       " 1,\n",
       " 5,\n",
       " 6,\n",
       " 6,\n",
       " 6,\n",
       " 9,\n",
       " 1,\n",
       " 6,\n",
       " 1,\n",
       " 9,\n",
       " 6,\n",
       " 6,\n",
       " 6,\n",
       " 6,\n",
       " 9,\n",
       " 9,\n",
       " 6,\n",
       " 1,\n",
       " 9,\n",
       " 1,\n",
       " 6,\n",
       " 6,\n",
       " 6,\n",
       " 6,\n",
       " 6,\n",
       " 6,\n",
       " 1,\n",
       " 9,\n",
       " 6,\n",
       " 6,\n",
       " 1,\n",
       " 6,\n",
       " 6,\n",
       " 6,\n",
       " 6,\n",
       " 1,\n",
       " 4,\n",
       " 4,\n",
       " 4,\n",
       " 7,\n",
       " 9,\n",
       " 9,\n",
       " 9,\n",
       " 9,\n",
       " 6,\n",
       " 6,\n",
       " 6,\n",
       " 6,\n",
       " 9,\n",
       " 6,\n",
       " 9,\n",
       " 6,\n",
       " 6,\n",
       " 6,\n",
       " 6,\n",
       " 1,\n",
       " 1,\n",
       " 1,\n",
       " 1,\n",
       " 1,\n",
       " 0,\n",
       " 0,\n",
       " 6,\n",
       " 1,\n",
       " 6,\n",
       " 1,\n",
       " 9,\n",
       " 9,\n",
       " 1,\n",
       " 9,\n",
       " 1,\n",
       " 6,\n",
       " 9,\n",
       " 9,\n",
       " 6,\n",
       " 6,\n",
       " 6,\n",
       " 6,\n",
       " 9,\n",
       " 5,\n",
       " 9,\n",
       " 9,\n",
       " 9,\n",
       " 9,\n",
       " 1,\n",
       " 6,\n",
       " 4,\n",
       " 2,\n",
       " 2,\n",
       " 2,\n",
       " 2,\n",
       " 0,\n",
       " 2,\n",
       " 2,\n",
       " 2,\n",
       " 2,\n",
       " 2,\n",
       " 0,\n",
       " 0,\n",
       " 0,\n",
       " 3,\n",
       " 7,\n",
       " 0,\n",
       " 0,\n",
       " 6,\n",
       " 6,\n",
       " 0,\n",
       " 0,\n",
       " 0,\n",
       " 3,\n",
       " 3,\n",
       " 3,\n",
       " 3,\n",
       " 0,\n",
       " 3,\n",
       " 0,\n",
       " 0,\n",
       " 0,\n",
       " 0,\n",
       " 0,\n",
       " 1,\n",
       " 1,\n",
       " 3,\n",
       " 0,\n",
       " 3,\n",
       " 3,\n",
       " 1,\n",
       " 0,\n",
       " 0,\n",
       " 3,\n",
       " 3,\n",
       " 6,\n",
       " 3,\n",
       " 0,\n",
       " 3,\n",
       " 6,\n",
       " 6,\n",
       " 0,\n",
       " 0,\n",
       " 0,\n",
       " 0,\n",
       " 3,\n",
       " 3,\n",
       " 0,\n",
       " 0,\n",
       " 0,\n",
       " 0,\n",
       " 3,\n",
       " 3,\n",
       " 0,\n",
       " 0,\n",
       " 3,\n",
       " 0,\n",
       " 6,\n",
       " 0,\n",
       " 6,\n",
       " 6,\n",
       " 0,\n",
       " 6,\n",
       " 5,\n",
       " 5,\n",
       " 6,\n",
       " 3,\n",
       " 3,\n",
       " 3,\n",
       " 3,\n",
       " 3,\n",
       " 0,\n",
       " 3,\n",
       " 0,\n",
       " 3,\n",
       " 0,\n",
       " 0,\n",
       " 0,\n",
       " 0,\n",
       " 3,\n",
       " 0,\n",
       " 0,\n",
       " 3,\n",
       " 8,\n",
       " 0,\n",
       " 0,\n",
       " 0,\n",
       " 3,\n",
       " 3,\n",
       " 3,\n",
       " 3,\n",
       " 6,\n",
       " 6,\n",
       " 0,\n",
       " 0,\n",
       " 0,\n",
       " 0,\n",
       " 0,\n",
       " 0,\n",
       " 0,\n",
       " 0,\n",
       " 0,\n",
       " 0,\n",
       " 0,\n",
       " 0,\n",
       " 0,\n",
       " 0,\n",
       " 0,\n",
       " 0,\n",
       " 0,\n",
       " 0,\n",
       " 0,\n",
       " 0,\n",
       " 0,\n",
       " 0,\n",
       " 0,\n",
       " 0,\n",
       " 0,\n",
       " 0,\n",
       " 0,\n",
       " 1,\n",
       " 0,\n",
       " 0,\n",
       " 7,\n",
       " 0,\n",
       " 0,\n",
       " 0,\n",
       " 0,\n",
       " 0,\n",
       " 0,\n",
       " 0,\n",
       " 0,\n",
       " 0,\n",
       " 0,\n",
       " 0,\n",
       " 0,\n",
       " 0,\n",
       " 0,\n",
       " 7,\n",
       " 7,\n",
       " 0,\n",
       " 0,\n",
       " 0,\n",
       " 0,\n",
       " 0,\n",
       " 0,\n",
       " 0,\n",
       " 0,\n",
       " 0,\n",
       " 0,\n",
       " 0,\n",
       " 0,\n",
       " 0,\n",
       " 0,\n",
       " 0,\n",
       " 0,\n",
       " 0,\n",
       " 0,\n",
       " 0,\n",
       " 0,\n",
       " 0,\n",
       " 8,\n",
       " 0,\n",
       " 0,\n",
       " 9,\n",
       " 8,\n",
       " 8,\n",
       " 8,\n",
       " 0,\n",
       " 3,\n",
       " 0,\n",
       " 9,\n",
       " 0,\n",
       " 0,\n",
       " 2,\n",
       " 2,\n",
       " 2,\n",
       " 8,\n",
       " 8,\n",
       " 2,\n",
       " 2,\n",
       " 2,\n",
       " 2,\n",
       " 2,\n",
       " 8,\n",
       " 8,\n",
       " 8,\n",
       " 8,\n",
       " 8,\n",
       " 2,\n",
       " 2,\n",
       " 8,\n",
       " 8,\n",
       " 8,\n",
       " 8,\n",
       " 6,\n",
       " 9,\n",
       " 6,\n",
       " 9,\n",
       " 8,\n",
       " 8,\n",
       " 8,\n",
       " 1,\n",
       " 0,\n",
       " 8,\n",
       " 8,\n",
       " 8,\n",
       " 8,\n",
       " 8,\n",
       " 8,\n",
       " 8,\n",
       " 8,\n",
       " 8,\n",
       " 8,\n",
       " 8,\n",
       " 8,\n",
       " 8,\n",
       " 8,\n",
       " 8,\n",
       " 8,\n",
       " 8,\n",
       " 8,\n",
       " 8,\n",
       " 8,\n",
       " 8,\n",
       " 8,\n",
       " 8,\n",
       " 8,\n",
       " 8,\n",
       " 8,\n",
       " 8,\n",
       " 8,\n",
       " 8,\n",
       " 8,\n",
       " 8,\n",
       " 8,\n",
       " 8,\n",
       " 8,\n",
       " 8,\n",
       " 8,\n",
       " 8,\n",
       " 8,\n",
       " 8,\n",
       " 8,\n",
       " 8,\n",
       " 8,\n",
       " 8,\n",
       " 8,\n",
       " 8,\n",
       " 8,\n",
       " 8,\n",
       " 8,\n",
       " 8,\n",
       " 8,\n",
       " 8,\n",
       " 8,\n",
       " 8,\n",
       " 8,\n",
       " 8,\n",
       " 8,\n",
       " 8,\n",
       " 8,\n",
       " 8,\n",
       " 8,\n",
       " 8,\n",
       " 8,\n",
       " 8,\n",
       " 8,\n",
       " 8,\n",
       " 8,\n",
       " 8,\n",
       " 8,\n",
       " 8,\n",
       " 8,\n",
       " 8,\n",
       " 8,\n",
       " 8,\n",
       " 8,\n",
       " 8,\n",
       " 8,\n",
       " 8,\n",
       " 8,\n",
       " 8,\n",
       " 8,\n",
       " 8,\n",
       " 8,\n",
       " 8,\n",
       " 8,\n",
       " 8,\n",
       " 8,\n",
       " 8,\n",
       " 8,\n",
       " 8,\n",
       " 8,\n",
       " 8,\n",
       " 8,\n",
       " 8,\n",
       " 4,\n",
       " 2,\n",
       " 4,\n",
       " 2,\n",
       " 4,\n",
       " 4,\n",
       " 4,\n",
       " 4,\n",
       " 4,\n",
       " 4,\n",
       " 4,\n",
       " 4,\n",
       " 4,\n",
       " 4,\n",
       " 4,\n",
       " 4,\n",
       " 4,\n",
       " 4,\n",
       " 4,\n",
       " 4,\n",
       " 4,\n",
       " 4,\n",
       " 4,\n",
       " 4,\n",
       " 4,\n",
       " 4,\n",
       " 4,\n",
       " 4,\n",
       " 4,\n",
       " 4,\n",
       " 4,\n",
       " 4,\n",
       " 4,\n",
       " 4,\n",
       " 4,\n",
       " 4,\n",
       " 4,\n",
       " 4,\n",
       " 4,\n",
       " 4,\n",
       " 4,\n",
       " 4,\n",
       " 4,\n",
       " 4,\n",
       " 4,\n",
       " 4,\n",
       " 4,\n",
       " 4,\n",
       " 4,\n",
       " 4,\n",
       " 4,\n",
       " 4,\n",
       " 9,\n",
       " 4,\n",
       " 4,\n",
       " 4,\n",
       " 4,\n",
       " 4,\n",
       " 6,\n",
       " 6,\n",
       " 4,\n",
       " 4,\n",
       " 4,\n",
       " 4,\n",
       " 9,\n",
       " 9,\n",
       " 4,\n",
       " 4,\n",
       " 4,\n",
       " 4,\n",
       " 4,\n",
       " 4,\n",
       " 4,\n",
       " 4,\n",
       " 4,\n",
       " 4,\n",
       " 4,\n",
       " 4,\n",
       " 4,\n",
       " 4,\n",
       " 6,\n",
       " 6,\n",
       " 2,\n",
       " 5,\n",
       " 5,\n",
       " 5,\n",
       " 8,\n",
       " 5,\n",
       " 5,\n",
       " 5,\n",
       " 5,\n",
       " 5,\n",
       " 5,\n",
       " 5,\n",
       " 5,\n",
       " 5,\n",
       " 5,\n",
       " 5,\n",
       " 5,\n",
       " 5,\n",
       " 5,\n",
       " 5,\n",
       " 5,\n",
       " 5,\n",
       " 5,\n",
       " 8,\n",
       " 6,\n",
       " 5,\n",
       " 2,\n",
       " 2,\n",
       " 5,\n",
       " 2,\n",
       " 5,\n",
       " 5,\n",
       " 5,\n",
       " 5,\n",
       " 5,\n",
       " 5,\n",
       " 2,\n",
       " 5,\n",
       " 5,\n",
       " 5,\n",
       " 2,\n",
       " 5,\n",
       " 5,\n",
       " 5,\n",
       " 5,\n",
       " 1,\n",
       " 2,\n",
       " 2,\n",
       " 9,\n",
       " 2,\n",
       " 7,\n",
       " 8,\n",
       " 1,\n",
       " 8,\n",
       " 8,\n",
       " 8,\n",
       " 1,\n",
       " 8,\n",
       " 1,\n",
       " 1,\n",
       " 1,\n",
       " 8,\n",
       " 8,\n",
       " 8,\n",
       " 8,\n",
       " 8,\n",
       " 8,\n",
       " 8,\n",
       " 8,\n",
       " 8,\n",
       " 8,\n",
       " 8,\n",
       " 8,\n",
       " 8,\n",
       " 8,\n",
       " 8,\n",
       " 1,\n",
       " 8,\n",
       " 8,\n",
       " 8,\n",
       " 8,\n",
       " 4,\n",
       " 8,\n",
       " 8,\n",
       " 8,\n",
       " 8,\n",
       " 2,\n",
       " 6,\n",
       " 6,\n",
       " 6,\n",
       " 6,\n",
       " 9,\n",
       " 9,\n",
       " 6,\n",
       " 9,\n",
       " 6,\n",
       " 6,\n",
       " 6,\n",
       " 9,\n",
       " 6,\n",
       " 6,\n",
       " 6,\n",
       " 6,\n",
       " 6,\n",
       " 6,\n",
       " 6,\n",
       " 6,\n",
       " 6,\n",
       " 6,\n",
       " 6,\n",
       " 6,\n",
       " 6,\n",
       " 6,\n",
       " 6,\n",
       " 3,\n",
       " 3,\n",
       " 3,\n",
       " 3,\n",
       " 7,\n",
       " 3,\n",
       " 3,\n",
       " 3,\n",
       " 3,\n",
       " 3,\n",
       " 3,\n",
       " 3,\n",
       " 3,\n",
       " 8,\n",
       " 3,\n",
       " 3,\n",
       " 3,\n",
       " 3,\n",
       " 3,\n",
       " 3,\n",
       " 3,\n",
       " 3,\n",
       " 3,\n",
       " 3,\n",
       " 6,\n",
       " 2,\n",
       " 2,\n",
       " 2,\n",
       " 2,\n",
       " 6,\n",
       " 6,\n",
       " 4,\n",
       " 4,\n",
       " 6,\n",
       " 6,\n",
       " 6,\n",
       " 6,\n",
       " 6,\n",
       " 6,\n",
       " 6,\n",
       " 6,\n",
       " 6,\n",
       " 6,\n",
       " 6,\n",
       " 6,\n",
       " 6,\n",
       " 6,\n",
       " 2,\n",
       " 6,\n",
       " 6,\n",
       " 6,\n",
       " 7,\n",
       " 4,\n",
       " 6,\n",
       " 6,\n",
       " 6,\n",
       " 6,\n",
       " 6,\n",
       " 6,\n",
       " 4,\n",
       " 6,\n",
       " 6,\n",
       " 8,\n",
       " 6]"
      ]
     },
     "execution_count": 37,
     "metadata": {},
     "output_type": "execute_result"
    }
   ],
   "source": [
    "max_index_tdt2_top10=[]\n",
    "for document in W_tdt2_top10:\n",
    "    max_index_tdt2_top10.append(np.argmax(document))\n",
    "max_index_tdt2_top10"
   ]
  },
  {
   "cell_type": "code",
   "execution_count": 38,
   "id": "82eaaf26",
   "metadata": {},
   "outputs": [
    {
     "data": {
      "text/plain": [
       "(751,)"
      ]
     },
     "execution_count": 38,
     "metadata": {},
     "output_type": "execute_result"
    }
   ],
   "source": [
    "np.shape(max_index_tdt2_top10)"
   ]
  },
  {
   "cell_type": "markdown",
   "id": "790836cd",
   "metadata": {},
   "source": [
    "#### number of documents in each cluster"
   ]
  },
  {
   "cell_type": "code",
   "execution_count": 39,
   "id": "8f920a56",
   "metadata": {},
   "outputs": [
    {
     "data": {
      "text/plain": [
       "array([116.,  57.,  43.,  54.,  83.,  40., 149.,  10., 145.,  54.])"
      ]
     },
     "execution_count": 39,
     "metadata": {},
     "output_type": "execute_result"
    }
   ],
   "source": [
    "num_of_docs_each_cluster(10,max_index_tdt2_top10)"
   ]
  },
  {
   "cell_type": "markdown",
   "id": "be17fd53",
   "metadata": {},
   "source": [
    "#### purity of NMF clustering for Top 10 of TDT2"
   ]
  },
  {
   "cell_type": "code",
   "execution_count": 40,
   "id": "65205b0b",
   "metadata": {},
   "outputs": [
    {
     "data": {
      "text/plain": [
       "0.7190412782956058"
      ]
     },
     "execution_count": 40,
     "metadata": {},
     "output_type": "execute_result"
    }
   ],
   "source": [
    "purity_nmf_top10_tdt2=purity(10,Top10_tdt2_10percent,max_index_tdt2_top10)\n",
    "purity_nmf_top10_tdt2"
   ]
  },
  {
   "cell_type": "markdown",
   "id": "d61ee4a9",
   "metadata": {},
   "source": [
    "#### entropy of NMF clustering for Top 10 of TDT2"
   ]
  },
  {
   "cell_type": "code",
   "execution_count": 41,
   "id": "e9bb68de",
   "metadata": {},
   "outputs": [
    {
     "data": {
      "text/plain": [
       "0.36667244059857834"
      ]
     },
     "execution_count": 41,
     "metadata": {},
     "output_type": "execute_result"
    }
   ],
   "source": [
    "entropy_nmf_top10_tdt2=entropy(10,Top10_tdt2_10percent,max_index_tdt2_top10)\n",
    "entropy_nmf_top10_tdt2"
   ]
  },
  {
   "cell_type": "markdown",
   "id": "4df4b5d3",
   "metadata": {},
   "source": [
    "## Last 10 of TDT2"
   ]
  },
  {
   "cell_type": "code",
   "execution_count": 42,
   "id": "e71ba25b",
   "metadata": {},
   "outputs": [
    {
     "data": {
      "text/plain": [
       "array([[8., 5., 1., ..., 0., 0., 0.],\n",
       "       [9., 0., 1., ..., 0., 0., 0.],\n",
       "       [4., 2., 1., ..., 0., 0., 0.],\n",
       "       ...,\n",
       "       [0., 0., 0., ..., 0., 0., 0.],\n",
       "       [0., 2., 0., ..., 0., 0., 0.],\n",
       "       [0., 2., 2., ..., 0., 0., 0.]])"
      ]
     },
     "execution_count": 42,
     "metadata": {},
     "output_type": "execute_result"
    }
   ],
   "source": [
    "matrix_tdt2_last10=matrix_tdt2[-int(num_last10_tdt2):]\n",
    "matrix_tdt2_last10"
   ]
  },
  {
   "cell_type": "code",
   "execution_count": 43,
   "id": "248269bc",
   "metadata": {},
   "outputs": [
    {
     "data": {
      "text/plain": [
       "(653, 36771)"
      ]
     },
     "execution_count": 43,
     "metadata": {},
     "output_type": "execute_result"
    }
   ],
   "source": [
    "matrix_tdt2_last10.shape"
   ]
  },
  {
   "cell_type": "markdown",
   "id": "567a7a28",
   "metadata": {},
   "source": [
    "### Kmeans for Last 10 of TDT2"
   ]
  },
  {
   "cell_type": "code",
   "execution_count": 44,
   "id": "59acaf5e",
   "metadata": {},
   "outputs": [],
   "source": [
    "clusters_tdt2_last10=kmeans(10,matrix_tdt2_last10)"
   ]
  },
  {
   "cell_type": "markdown",
   "id": "f40acdef",
   "metadata": {},
   "source": [
    "#### clusters of documents with Kmeans for Last 10 of TDT2"
   ]
  },
  {
   "cell_type": "code",
   "execution_count": 45,
   "id": "ad6c0675",
   "metadata": {},
   "outputs": [
    {
     "data": {
      "text/plain": [
       "array([7, 7, 7, 7, 7, 7, 0, 0, 0, 0, 7, 0, 7, 7, 7, 7, 7, 7, 7, 0, 7, 7,\n",
       "       0, 0, 0, 0, 0, 0, 0, 0, 0, 0, 0, 0, 7, 7, 0, 7, 0, 0, 7, 0, 7, 0,\n",
       "       7, 4, 4, 7, 7, 7, 7, 0, 7, 7, 7, 7, 7, 7, 7, 7, 7, 7, 7, 7, 0, 0,\n",
       "       0, 0, 0, 7, 7, 0, 7, 7, 0, 7, 0, 0, 0, 0, 0, 0, 0, 0, 0, 0, 0, 0,\n",
       "       0, 0, 0, 0, 0, 0, 0, 0, 0, 0, 0, 0, 0, 0, 0, 0, 0, 0, 0, 0, 0, 0,\n",
       "       0, 0, 0, 0, 0, 0, 0, 0, 0, 0, 0, 0, 0, 0, 0, 0, 0, 0, 0, 0, 0, 0,\n",
       "       0, 0, 0, 0, 0, 0, 0, 0, 0, 0, 0, 0, 0, 0, 0, 0, 0, 0, 0, 0, 0, 0,\n",
       "       0, 0, 0, 0, 0, 0, 0, 0, 0, 0, 0, 0, 0, 0, 0, 0, 0, 0, 0, 0, 0, 0,\n",
       "       0, 0, 0, 0, 0, 0, 0, 0, 0, 0, 0, 0, 0, 0, 0, 0, 0, 0, 0, 0, 0, 0,\n",
       "       0, 0, 0, 0, 0, 0, 0, 0, 0, 0, 0, 0, 0, 0, 0, 0, 0, 0, 0, 0, 0, 0,\n",
       "       0, 0, 0, 0, 0, 0, 0, 0, 0, 0, 0, 0, 1, 1, 0, 1, 0, 1, 0, 0, 0, 1,\n",
       "       0, 0, 1, 1, 1, 1, 1, 0, 1, 1, 1, 0, 0, 1, 0, 0, 0, 0, 0, 0, 0, 1,\n",
       "       0, 0, 0, 0, 0, 1, 1, 1, 1, 1, 1, 1, 1, 1, 1, 1, 1, 1, 1, 0, 1, 0,\n",
       "       0, 0, 0, 1, 0, 0, 1, 8, 0, 0, 0, 0, 0, 0, 0, 0, 0, 8, 8, 6, 8, 0,\n",
       "       0, 0, 0, 8, 0, 0, 0, 0, 0, 0, 0, 0, 0, 0, 0, 0, 0, 0, 0, 0, 0, 0,\n",
       "       0, 0, 8, 0, 0, 0, 0, 0, 8, 0, 8, 8, 0, 0, 0, 0, 0, 0, 0, 0, 0, 8,\n",
       "       0, 8, 8, 8, 8, 8, 0, 0, 0, 0, 0, 3, 3, 3, 0, 3, 3, 0, 3, 3, 3, 0,\n",
       "       3, 3, 3, 3, 3, 3, 3, 3, 3, 3, 3, 0, 3, 3, 3, 3, 3, 3, 0, 3, 3, 0,\n",
       "       3, 3, 3, 3, 3, 3, 0, 3, 3, 3, 3, 0, 0, 3, 3, 3, 3, 3, 3, 3, 3, 3,\n",
       "       3, 3, 3, 3, 3, 3, 0, 0, 0, 0, 0, 0, 0, 0, 0, 0, 0, 0, 0, 0, 0, 0,\n",
       "       0, 0, 0, 0, 0, 0, 0, 0, 0, 0, 0, 0, 0, 0, 0, 0, 0, 0, 0, 0, 0, 0,\n",
       "       0, 0, 0, 0, 0, 0, 0, 0, 0, 0, 0, 0, 0, 0, 0, 0, 0, 0, 0, 0, 0, 0,\n",
       "       0, 0, 0, 0, 0, 0, 0, 0, 0, 0, 0, 0, 0, 0, 0, 0, 0, 0, 0, 0, 0, 0,\n",
       "       0, 0, 0, 0, 0, 0, 0, 0, 0, 0, 0, 0, 0, 0, 0, 0, 0, 0, 0, 0, 0, 0,\n",
       "       0, 0, 0, 0, 0, 0, 0, 0, 0, 0, 0, 0, 0, 0, 0, 0, 0, 0, 5, 5, 5, 5,\n",
       "       0, 5, 0, 5, 0, 0, 5, 0, 0, 5, 5, 5, 5, 5, 5, 5, 5, 0, 5, 0, 0, 0,\n",
       "       0, 0, 0, 0, 0, 0, 0, 0, 0, 0, 0, 0, 0, 0, 0, 0, 5, 0, 5, 0, 0, 0,\n",
       "       0, 0, 5, 0, 0, 0, 0, 0, 9, 9, 0, 9, 0, 0, 0, 0, 0, 0, 0, 0, 0, 0,\n",
       "       0, 0, 0, 0, 0, 0, 0, 0, 0, 0, 0, 0, 0, 2, 2, 2, 0, 0, 0, 2, 0, 0,\n",
       "       0, 0, 0, 9, 0, 0, 0, 0, 0, 0, 0, 0, 0, 0, 0])"
      ]
     },
     "execution_count": 45,
     "metadata": {},
     "output_type": "execute_result"
    }
   ],
   "source": [
    "clusters_tdt2_last10"
   ]
  },
  {
   "cell_type": "code",
   "execution_count": 46,
   "id": "f744ed0e",
   "metadata": {},
   "outputs": [
    {
     "data": {
      "text/plain": [
       "(653,)"
      ]
     },
     "execution_count": 46,
     "metadata": {},
     "output_type": "execute_result"
    }
   ],
   "source": [
    "clusters_tdt2_last10.shape"
   ]
  },
  {
   "cell_type": "markdown",
   "id": "30adcb47",
   "metadata": {},
   "source": [
    "#### number of documents in each cluster"
   ]
  },
  {
   "cell_type": "code",
   "execution_count": 47,
   "id": "130be666",
   "metadata": {},
   "outputs": [
    {
     "data": {
      "text/plain": [
       "array([481.,  32.,   4.,  52.,   2.,  19.,   1.,  43.,  15.,   4.])"
      ]
     },
     "execution_count": 47,
     "metadata": {},
     "output_type": "execute_result"
    }
   ],
   "source": [
    "num_of_docs_each_cluster(10,clusters_tdt2_last10)"
   ]
  },
  {
   "cell_type": "markdown",
   "id": "131598de",
   "metadata": {},
   "source": [
    "#### purity of Kmeans clustering for Last 10 of TDT2"
   ]
  },
  {
   "cell_type": "code",
   "execution_count": 48,
   "id": "521f0b4d",
   "metadata": {},
   "outputs": [
    {
     "data": {
      "text/plain": [
       "0.3767228177641654"
      ]
     },
     "execution_count": 48,
     "metadata": {},
     "output_type": "execute_result"
    }
   ],
   "source": [
    "purity_kmeans_last10_tdt2=purity(10,Last10_tdt2,clusters_tdt2_last10)\n",
    "purity_kmeans_last10_tdt2"
   ]
  },
  {
   "cell_type": "markdown",
   "id": "4b9ea133",
   "metadata": {},
   "source": [
    "#### entropy of Kmeans clustering for Top 10 of TDT2"
   ]
  },
  {
   "cell_type": "code",
   "execution_count": 49,
   "id": "81769e49",
   "metadata": {},
   "outputs": [
    {
     "data": {
      "text/plain": [
       "0.7114184237947471"
      ]
     },
     "execution_count": 49,
     "metadata": {},
     "output_type": "execute_result"
    }
   ],
   "source": [
    "entropy_kmeans_last10_tdt2=entropy(10,Last10_tdt2,clusters_tdt2_last10)\n",
    "entropy_kmeans_last10_tdt2"
   ]
  },
  {
   "cell_type": "markdown",
   "id": "2e86924d",
   "metadata": {},
   "source": [
    "### NMF for Last 10 of TDT2"
   ]
  },
  {
   "cell_type": "code",
   "execution_count": 50,
   "id": "9bdcbc1b",
   "metadata": {},
   "outputs": [],
   "source": [
    "W_tdt2_last10,H_tdt2_last10=nmf(10,matrix_tdt2_last10)"
   ]
  },
  {
   "cell_type": "code",
   "execution_count": 51,
   "id": "1f730649",
   "metadata": {},
   "outputs": [
    {
     "data": {
      "text/plain": [
       "(653, 10)"
      ]
     },
     "execution_count": 51,
     "metadata": {},
     "output_type": "execute_result"
    }
   ],
   "source": [
    "W_tdt2_last10.shape"
   ]
  },
  {
   "cell_type": "code",
   "execution_count": 52,
   "id": "e050fc25",
   "metadata": {},
   "outputs": [
    {
     "data": {
      "text/plain": [
       "(10, 36771)"
      ]
     },
     "execution_count": 52,
     "metadata": {},
     "output_type": "execute_result"
    }
   ],
   "source": [
    "H_tdt2_last10.shape"
   ]
  },
  {
   "cell_type": "markdown",
   "id": "00ef152f",
   "metadata": {},
   "source": [
    "#### clusters of documents with NMF for Last 10 of TDT2"
   ]
  },
  {
   "cell_type": "code",
   "execution_count": 53,
   "id": "70f99196",
   "metadata": {},
   "outputs": [
    {
     "data": {
      "text/plain": [
       "[5,\n",
       " 0,\n",
       " 0,\n",
       " 0,\n",
       " 0,\n",
       " 0,\n",
       " 0,\n",
       " 0,\n",
       " 0,\n",
       " 7,\n",
       " 5,\n",
       " 0,\n",
       " 5,\n",
       " 5,\n",
       " 0,\n",
       " 5,\n",
       " 5,\n",
       " 0,\n",
       " 5,\n",
       " 5,\n",
       " 0,\n",
       " 0,\n",
       " 0,\n",
       " 0,\n",
       " 0,\n",
       " 0,\n",
       " 0,\n",
       " 0,\n",
       " 0,\n",
       " 0,\n",
       " 0,\n",
       " 0,\n",
       " 0,\n",
       " 0,\n",
       " 0,\n",
       " 0,\n",
       " 0,\n",
       " 0,\n",
       " 0,\n",
       " 0,\n",
       " 0,\n",
       " 0,\n",
       " 0,\n",
       " 0,\n",
       " 0,\n",
       " 0,\n",
       " 0,\n",
       " 0,\n",
       " 0,\n",
       " 0,\n",
       " 0,\n",
       " 0,\n",
       " 0,\n",
       " 0,\n",
       " 0,\n",
       " 0,\n",
       " 0,\n",
       " 0,\n",
       " 0,\n",
       " 0,\n",
       " 0,\n",
       " 0,\n",
       " 0,\n",
       " 0,\n",
       " 0,\n",
       " 0,\n",
       " 0,\n",
       " 0,\n",
       " 0,\n",
       " 0,\n",
       " 0,\n",
       " 0,\n",
       " 5,\n",
       " 0,\n",
       " 0,\n",
       " 0,\n",
       " 5,\n",
       " 5,\n",
       " 5,\n",
       " 8,\n",
       " 7,\n",
       " 9,\n",
       " 9,\n",
       " 5,\n",
       " 8,\n",
       " 1,\n",
       " 1,\n",
       " 5,\n",
       " 5,\n",
       " 8,\n",
       " 5,\n",
       " 5,\n",
       " 5,\n",
       " 5,\n",
       " 3,\n",
       " 3,\n",
       " 3,\n",
       " 5,\n",
       " 5,\n",
       " 5,\n",
       " 5,\n",
       " 5,\n",
       " 1,\n",
       " 1,\n",
       " 6,\n",
       " 3,\n",
       " 1,\n",
       " 3,\n",
       " 5,\n",
       " 7,\n",
       " 6,\n",
       " 3,\n",
       " 9,\n",
       " 3,\n",
       " 5,\n",
       " 0,\n",
       " 4,\n",
       " 9,\n",
       " 1,\n",
       " 7,\n",
       " 6,\n",
       " 9,\n",
       " 9,\n",
       " 0,\n",
       " 9,\n",
       " 8,\n",
       " 9,\n",
       " 9,\n",
       " 3,\n",
       " 3,\n",
       " 5,\n",
       " 1,\n",
       " 1,\n",
       " 1,\n",
       " 1,\n",
       " 1,\n",
       " 1,\n",
       " 1,\n",
       " 1,\n",
       " 9,\n",
       " 9,\n",
       " 1,\n",
       " 5,\n",
       " 1,\n",
       " 5,\n",
       " 5,\n",
       " 5,\n",
       " 5,\n",
       " 7,\n",
       " 5,\n",
       " 8,\n",
       " 8,\n",
       " 5,\n",
       " 8,\n",
       " 8,\n",
       " 8,\n",
       " 8,\n",
       " 8,\n",
       " 8,\n",
       " 8,\n",
       " 8,\n",
       " 8,\n",
       " 8,\n",
       " 8,\n",
       " 8,\n",
       " 8,\n",
       " 8,\n",
       " 8,\n",
       " 8,\n",
       " 8,\n",
       " 8,\n",
       " 8,\n",
       " 8,\n",
       " 8,\n",
       " 8,\n",
       " 8,\n",
       " 8,\n",
       " 8,\n",
       " 8,\n",
       " 8,\n",
       " 8,\n",
       " 8,\n",
       " 8,\n",
       " 8,\n",
       " 8,\n",
       " 8,\n",
       " 8,\n",
       " 8,\n",
       " 8,\n",
       " 8,\n",
       " 8,\n",
       " 8,\n",
       " 8,\n",
       " 8,\n",
       " 8,\n",
       " 8,\n",
       " 8,\n",
       " 8,\n",
       " 8,\n",
       " 8,\n",
       " 8,\n",
       " 8,\n",
       " 8,\n",
       " 8,\n",
       " 8,\n",
       " 8,\n",
       " 8,\n",
       " 8,\n",
       " 8,\n",
       " 8,\n",
       " 8,\n",
       " 8,\n",
       " 8,\n",
       " 8,\n",
       " 8,\n",
       " 8,\n",
       " 8,\n",
       " 8,\n",
       " 8,\n",
       " 8,\n",
       " 8,\n",
       " 8,\n",
       " 5,\n",
       " 5,\n",
       " 2,\n",
       " 2,\n",
       " 2,\n",
       " 2,\n",
       " 2,\n",
       " 2,\n",
       " 2,\n",
       " 2,\n",
       " 2,\n",
       " 2,\n",
       " 2,\n",
       " 2,\n",
       " 2,\n",
       " 5,\n",
       " 2,\n",
       " 2,\n",
       " 8,\n",
       " 2,\n",
       " 2,\n",
       " 2,\n",
       " 2,\n",
       " 2,\n",
       " 2,\n",
       " 2,\n",
       " 2,\n",
       " 2,\n",
       " 2,\n",
       " 2,\n",
       " 2,\n",
       " 2,\n",
       " 2,\n",
       " 2,\n",
       " 2,\n",
       " 2,\n",
       " 2,\n",
       " 2,\n",
       " 2,\n",
       " 2,\n",
       " 2,\n",
       " 2,\n",
       " 2,\n",
       " 2,\n",
       " 2,\n",
       " 2,\n",
       " 2,\n",
       " 2,\n",
       " 2,\n",
       " 2,\n",
       " 2,\n",
       " 2,\n",
       " 2,\n",
       " 2,\n",
       " 2,\n",
       " 2,\n",
       " 2,\n",
       " 2,\n",
       " 2,\n",
       " 2,\n",
       " 2,\n",
       " 2,\n",
       " 2,\n",
       " 2,\n",
       " 2,\n",
       " 2,\n",
       " 2,\n",
       " 2,\n",
       " 2,\n",
       " 2,\n",
       " 2,\n",
       " 5,\n",
       " 4,\n",
       " 4,\n",
       " 4,\n",
       " 4,\n",
       " 4,\n",
       " 4,\n",
       " 4,\n",
       " 4,\n",
       " 4,\n",
       " 4,\n",
       " 4,\n",
       " 4,\n",
       " 4,\n",
       " 4,\n",
       " 4,\n",
       " 4,\n",
       " 4,\n",
       " 5,\n",
       " 4,\n",
       " 4,\n",
       " 4,\n",
       " 4,\n",
       " 4,\n",
       " 4,\n",
       " 4,\n",
       " 4,\n",
       " 4,\n",
       " 4,\n",
       " 4,\n",
       " 4,\n",
       " 4,\n",
       " 4,\n",
       " 4,\n",
       " 4,\n",
       " 4,\n",
       " 4,\n",
       " 4,\n",
       " 4,\n",
       " 4,\n",
       " 4,\n",
       " 4,\n",
       " 4,\n",
       " 4,\n",
       " 4,\n",
       " 4,\n",
       " 4,\n",
       " 4,\n",
       " 4,\n",
       " 4,\n",
       " 4,\n",
       " 4,\n",
       " 4,\n",
       " 4,\n",
       " 4,\n",
       " 4,\n",
       " 4,\n",
       " 4,\n",
       " 4,\n",
       " 4,\n",
       " 4,\n",
       " 4,\n",
       " 4,\n",
       " 4,\n",
       " 4,\n",
       " 4,\n",
       " 3,\n",
       " 3,\n",
       " 3,\n",
       " 3,\n",
       " 3,\n",
       " 3,\n",
       " 3,\n",
       " 3,\n",
       " 3,\n",
       " 3,\n",
       " 3,\n",
       " 3,\n",
       " 3,\n",
       " 3,\n",
       " 3,\n",
       " 3,\n",
       " 3,\n",
       " 3,\n",
       " 3,\n",
       " 7,\n",
       " 3,\n",
       " 3,\n",
       " 3,\n",
       " 3,\n",
       " 3,\n",
       " 3,\n",
       " 3,\n",
       " 3,\n",
       " 3,\n",
       " 3,\n",
       " 3,\n",
       " 3,\n",
       " 5,\n",
       " 3,\n",
       " 3,\n",
       " 3,\n",
       " 3,\n",
       " 3,\n",
       " 3,\n",
       " 3,\n",
       " 3,\n",
       " 3,\n",
       " 3,\n",
       " 7,\n",
       " 3,\n",
       " 3,\n",
       " 3,\n",
       " 3,\n",
       " 3,\n",
       " 3,\n",
       " 3,\n",
       " 3,\n",
       " 3,\n",
       " 3,\n",
       " 3,\n",
       " 3,\n",
       " 3,\n",
       " 3,\n",
       " 3,\n",
       " 3,\n",
       " 3,\n",
       " 3,\n",
       " 3,\n",
       " 3,\n",
       " 3,\n",
       " 5,\n",
       " 3,\n",
       " 5,\n",
       " 5,\n",
       " 5,\n",
       " 5,\n",
       " 7,\n",
       " 5,\n",
       " 5,\n",
       " 5,\n",
       " 5,\n",
       " 7,\n",
       " 5,\n",
       " 7,\n",
       " 5,\n",
       " 5,\n",
       " 5,\n",
       " 5,\n",
       " 5,\n",
       " 8,\n",
       " 5,\n",
       " 5,\n",
       " 5,\n",
       " 5,\n",
       " 7,\n",
       " 7,\n",
       " 7,\n",
       " 5,\n",
       " 5,\n",
       " 3,\n",
       " 7,\n",
       " 5,\n",
       " 5,\n",
       " 3,\n",
       " 3,\n",
       " 3,\n",
       " 7,\n",
       " 5,\n",
       " 5,\n",
       " 5,\n",
       " 5,\n",
       " 8,\n",
       " 8,\n",
       " 5,\n",
       " 6,\n",
       " 7,\n",
       " 5,\n",
       " 3,\n",
       " 5,\n",
       " 7,\n",
       " 7,\n",
       " 8,\n",
       " 3,\n",
       " 5,\n",
       " 5,\n",
       " 5,\n",
       " 3,\n",
       " 5,\n",
       " 5,\n",
       " 7,\n",
       " 5,\n",
       " 5,\n",
       " 5,\n",
       " 9,\n",
       " 9,\n",
       " 9,\n",
       " 9,\n",
       " 9,\n",
       " 9,\n",
       " 9,\n",
       " 9,\n",
       " 8,\n",
       " 9,\n",
       " 9,\n",
       " 9,\n",
       " 9,\n",
       " 9,\n",
       " 9,\n",
       " 9,\n",
       " 9,\n",
       " 9,\n",
       " 9,\n",
       " 9,\n",
       " 9,\n",
       " 9,\n",
       " 9,\n",
       " 9,\n",
       " 9,\n",
       " 9,\n",
       " 9,\n",
       " 9,\n",
       " 9,\n",
       " 9,\n",
       " 9,\n",
       " 9,\n",
       " 9,\n",
       " 9,\n",
       " 9,\n",
       " 9,\n",
       " 9,\n",
       " 9,\n",
       " 9,\n",
       " 9,\n",
       " 9,\n",
       " 9,\n",
       " 9,\n",
       " 9,\n",
       " 9,\n",
       " 9,\n",
       " 9,\n",
       " 9,\n",
       " 9,\n",
       " 9,\n",
       " 9,\n",
       " 9,\n",
       " 9,\n",
       " 9,\n",
       " 9,\n",
       " 9,\n",
       " 9,\n",
       " 9,\n",
       " 7,\n",
       " 6,\n",
       " 6,\n",
       " 5,\n",
       " 6,\n",
       " 6,\n",
       " 6,\n",
       " 6,\n",
       " 6,\n",
       " 6,\n",
       " 6,\n",
       " 6,\n",
       " 6,\n",
       " 6,\n",
       " 6,\n",
       " 6,\n",
       " 6,\n",
       " 6,\n",
       " 6,\n",
       " 6,\n",
       " 6,\n",
       " 6,\n",
       " 6,\n",
       " 6,\n",
       " 6,\n",
       " 7,\n",
       " 6,\n",
       " 6,\n",
       " 6,\n",
       " 6,\n",
       " 6,\n",
       " 6,\n",
       " 5,\n",
       " 6,\n",
       " 6,\n",
       " 6,\n",
       " 6,\n",
       " 6,\n",
       " 6,\n",
       " 6,\n",
       " 6,\n",
       " 6,\n",
       " 6,\n",
       " 5,\n",
       " 6,\n",
       " 6,\n",
       " 6,\n",
       " 6,\n",
       " 6,\n",
       " 6,\n",
       " 6,\n",
       " 6,\n",
       " 6,\n",
       " 7,\n",
       " 6,\n",
       " 6,\n",
       " 5,\n",
       " 1,\n",
       " 1,\n",
       " 1,\n",
       " 1,\n",
       " 5,\n",
       " 5,\n",
       " 1,\n",
       " 5,\n",
       " 5,\n",
       " 1,\n",
       " 1,\n",
       " 1,\n",
       " 1,\n",
       " 1,\n",
       " 1,\n",
       " 1,\n",
       " 1,\n",
       " 1,\n",
       " 1,\n",
       " 1,\n",
       " 1,\n",
       " 1,\n",
       " 1,\n",
       " 1,\n",
       " 1,\n",
       " 1,\n",
       " 1,\n",
       " 1,\n",
       " 1,\n",
       " 1,\n",
       " 1,\n",
       " 1,\n",
       " 1,\n",
       " 1,\n",
       " 1,\n",
       " 1,\n",
       " 1,\n",
       " 1,\n",
       " 1,\n",
       " 1,\n",
       " 1,\n",
       " 1,\n",
       " 1,\n",
       " 1,\n",
       " 1,\n",
       " 1,\n",
       " 1,\n",
       " 1,\n",
       " 1,\n",
       " 1,\n",
       " 1]"
      ]
     },
     "execution_count": 53,
     "metadata": {},
     "output_type": "execute_result"
    }
   ],
   "source": [
    "max_index_tdt2_last10=[]\n",
    "for document in W_tdt2_last10:\n",
    "    max_index_tdt2_last10.append(np.argmax(document))\n",
    "max_index_tdt2_last10"
   ]
  },
  {
   "cell_type": "code",
   "execution_count": 54,
   "id": "ace759e8",
   "metadata": {},
   "outputs": [
    {
     "data": {
      "text/plain": [
       "(653,)"
      ]
     },
     "execution_count": 54,
     "metadata": {},
     "output_type": "execute_result"
    }
   ],
   "source": [
    "np.shape(max_index_tdt2_last10)"
   ]
  },
  {
   "cell_type": "markdown",
   "id": "ed1182f7",
   "metadata": {},
   "source": [
    "#### number of documents in each cluster"
   ]
  },
  {
   "cell_type": "code",
   "execution_count": 56,
   "id": "3ff63a53",
   "metadata": {},
   "outputs": [
    {
     "data": {
      "text/plain": [
       "array([68., 63., 67., 79., 65., 86., 54., 22., 81., 68.])"
      ]
     },
     "execution_count": 56,
     "metadata": {},
     "output_type": "execute_result"
    }
   ],
   "source": [
    "num_of_docs_each_cluster(10,max_index_tdt2_last10)"
   ]
  },
  {
   "cell_type": "markdown",
   "id": "154673d2",
   "metadata": {},
   "source": [
    "#### purity of NMF clustering for Last 10 of TDT2"
   ]
  },
  {
   "cell_type": "code",
   "execution_count": 57,
   "id": "cb03c41a",
   "metadata": {},
   "outputs": [
    {
     "data": {
      "text/plain": [
       "0.8177641653905053"
      ]
     },
     "execution_count": 57,
     "metadata": {},
     "output_type": "execute_result"
    }
   ],
   "source": [
    "purity_nmf_last10_tdt2=purity(10,Last10_tdt2,max_index_tdt2_last10)\n",
    "purity_nmf_last10_tdt2"
   ]
  },
  {
   "cell_type": "markdown",
   "id": "f65693b9",
   "metadata": {},
   "source": [
    "#### entropy of NMF clustering for Top 10 of TDT2"
   ]
  },
  {
   "cell_type": "code",
   "execution_count": 58,
   "id": "70ce4a52",
   "metadata": {},
   "outputs": [
    {
     "data": {
      "text/plain": [
       "0.23441438872854614"
      ]
     },
     "execution_count": 58,
     "metadata": {},
     "output_type": "execute_result"
    }
   ],
   "source": [
    "entropy_nmf_last10_tdt2=entropy(10,Last10_tdt2,max_index_tdt2_last10)\n",
    "entropy_nmf_last10_tdt2"
   ]
  },
  {
   "cell_type": "markdown",
   "id": "46494592",
   "metadata": {},
   "source": [
    "# Reuters-21578 dataset"
   ]
  },
  {
   "cell_type": "code",
   "execution_count": 59,
   "id": "f3e0337f",
   "metadata": {},
   "outputs": [
    {
     "data": {
      "text/plain": [
       "{'__header__': b'MATLAB 5.0 MAT-file, Platform: PCWIN, Created on: Wed Jan 16 00:53:49 2008',\n",
       " '__version__': '1.0',\n",
       " '__globals__': [],\n",
       " 'gnd': array([[ 1],\n",
       "        [ 1],\n",
       "        [ 1],\n",
       "        ...,\n",
       "        [63],\n",
       "        [64],\n",
       "        [65]], dtype=uint8),\n",
       " 'trainIdx': array([[   1],\n",
       "        [   2],\n",
       "        [   3],\n",
       "        ...,\n",
       "        [8286],\n",
       "        [8288],\n",
       "        [8290]], dtype=uint16),\n",
       " 'testIdx': array([[2674],\n",
       "        [2675],\n",
       "        [2676],\n",
       "        ...,\n",
       "        [8291],\n",
       "        [8292],\n",
       "        [8293]], dtype=uint16),\n",
       " 'fea': <8293x18933 sparse matrix of type '<class 'numpy.float64'>'\n",
       " \twith 389455 stored elements in Compressed Sparse Column format>}"
      ]
     },
     "execution_count": 59,
     "metadata": {},
     "output_type": "execute_result"
    }
   ],
   "source": [
    "mat_reu = scipy.io.loadmat('Reuters21578.mat')\n",
    "mat_reu"
   ]
  },
  {
   "cell_type": "code",
   "execution_count": 60,
   "id": "3ccfe366",
   "metadata": {},
   "outputs": [],
   "source": [
    "fea_reu = mat_reu.get('fea')\n",
    "gnd_reu = mat_reu.get('gnd')"
   ]
  },
  {
   "cell_type": "markdown",
   "id": "6755a16d",
   "metadata": {},
   "source": [
    "## number of documents in each category"
   ]
  },
  {
   "cell_type": "code",
   "execution_count": 61,
   "id": "1e3eb7aa",
   "metadata": {},
   "outputs": [
    {
     "data": {
      "text/plain": [
       "array([3.713e+03, 2.055e+03, 3.210e+02, 2.980e+02, 2.450e+02, 1.970e+02,\n",
       "       1.420e+02, 1.140e+02, 1.100e+02, 9.000e+01, 8.700e+01, 6.300e+01,\n",
       "       6.000e+01, 5.300e+01, 4.500e+01, 4.500e+01, 4.400e+01, 4.200e+01,\n",
       "       3.800e+01, 3.800e+01, 3.700e+01, 3.600e+01, 3.300e+01, 3.000e+01,\n",
       "       2.700e+01, 2.400e+01, 2.300e+01, 2.000e+01, 1.900e+01, 1.800e+01,\n",
       "       1.800e+01, 1.800e+01, 1.600e+01, 1.500e+01, 1.400e+01, 1.200e+01,\n",
       "       1.100e+01, 1.100e+01, 1.100e+01, 1.000e+01, 1.000e+01, 9.000e+00,\n",
       "       8.000e+00, 7.000e+00, 6.000e+00, 5.000e+00, 5.000e+00, 5.000e+00,\n",
       "       4.000e+00, 4.000e+00, 4.000e+00, 3.000e+00, 3.000e+00, 3.000e+00,\n",
       "       2.000e+00, 2.000e+00, 2.000e+00, 1.000e+00, 1.000e+00, 1.000e+00,\n",
       "       1.000e+00, 1.000e+00, 1.000e+00, 1.000e+00, 1.000e+00])"
      ]
     },
     "execution_count": 61,
     "metadata": {},
     "output_type": "execute_result"
    }
   ],
   "source": [
    "counter_reu = np.zeros((65))\n",
    "for i in gnd_reu:\n",
    "    counter_reu[i-1] = counter_reu[i-1] + 1\n",
    "counter_reu=np.array(counter_reu)\n",
    "counter_reu"
   ]
  },
  {
   "cell_type": "code",
   "execution_count": 62,
   "id": "afbb5ab8",
   "metadata": {},
   "outputs": [],
   "source": [
    "Top10_reu = counter_reu[:10]\n",
    "Top20_reu = counter_reu[:20]"
   ]
  },
  {
   "cell_type": "code",
   "execution_count": 63,
   "id": "11d2b496",
   "metadata": {},
   "outputs": [
    {
     "data": {
      "text/plain": [
       "array([3713., 2055.,  321.,  298.,  245.,  197.,  142.,  114.,  110.,\n",
       "         90.])"
      ]
     },
     "execution_count": 63,
     "metadata": {},
     "output_type": "execute_result"
    }
   ],
   "source": [
    "Top10_reu"
   ]
  },
  {
   "cell_type": "code",
   "execution_count": 64,
   "id": "16afea85",
   "metadata": {},
   "outputs": [
    {
     "data": {
      "text/plain": [
       "7285.0"
      ]
     },
     "execution_count": 64,
     "metadata": {},
     "output_type": "execute_result"
    }
   ],
   "source": [
    "num_top10_reu=np.sum(Top10_reu)\n",
    "num_top10_reu"
   ]
  },
  {
   "cell_type": "code",
   "execution_count": 65,
   "id": "890a6357",
   "metadata": {},
   "outputs": [
    {
     "data": {
      "text/plain": [
       "[186, 206, 129, 120, 98, 79, 57, 46, 44, 36]"
      ]
     },
     "execution_count": 65,
     "metadata": {},
     "output_type": "execute_result"
    }
   ],
   "source": [
    "Top10_reu_2=[]\n",
    "Top10_reu_2.append(math.ceil(Top10_reu[0]*0.05))\n",
    "Top10_reu_2.append(math.ceil(Top10_reu[1]*0.1))\n",
    "for a1 in Top10_reu[2:]:\n",
    "    Top10_reu_2.append(math.ceil(a1*0.4))\n",
    "Top10_reu_2"
   ]
  },
  {
   "cell_type": "code",
   "execution_count": 66,
   "id": "b9d3aa28",
   "metadata": {},
   "outputs": [
    {
     "data": {
      "text/plain": [
       "1001"
      ]
     },
     "execution_count": 66,
     "metadata": {},
     "output_type": "execute_result"
    }
   ],
   "source": [
    "num_top10_reu_2=np.sum(Top10_reu_2)\n",
    "num_top10_reu_2"
   ]
  },
  {
   "cell_type": "code",
   "execution_count": 67,
   "id": "8fe329e9",
   "metadata": {},
   "outputs": [
    {
     "data": {
      "text/plain": [
       "array([3713., 2055.,  321.,  298.,  245.,  197.,  142.,  114.,  110.,\n",
       "         90.,   87.,   63.,   60.,   53.,   45.,   45.,   44.,   42.,\n",
       "         38.,   38.])"
      ]
     },
     "execution_count": 67,
     "metadata": {},
     "output_type": "execute_result"
    }
   ],
   "source": [
    "Top20_reu"
   ]
  },
  {
   "cell_type": "code",
   "execution_count": 68,
   "id": "fa34f2f2",
   "metadata": {},
   "outputs": [
    {
     "data": {
      "text/plain": [
       "7800.0"
      ]
     },
     "execution_count": 68,
     "metadata": {},
     "output_type": "execute_result"
    }
   ],
   "source": [
    "num_top20_reu=np.sum(Top20_reu)\n",
    "num_top20_reu"
   ]
  },
  {
   "cell_type": "code",
   "execution_count": 69,
   "id": "f253ce78",
   "metadata": {},
   "outputs": [
    {
     "data": {
      "text/plain": [
       "[186,\n",
       " 206,\n",
       " 321,\n",
       " 298,\n",
       " 245,\n",
       " 197,\n",
       " 142,\n",
       " 114,\n",
       " 110,\n",
       " 90,\n",
       " 87,\n",
       " 63,\n",
       " 60,\n",
       " 53,\n",
       " 45,\n",
       " 45,\n",
       " 44,\n",
       " 42,\n",
       " 38,\n",
       " 38]"
      ]
     },
     "execution_count": 69,
     "metadata": {},
     "output_type": "execute_result"
    }
   ],
   "source": [
    "Top20_reu_2=[]\n",
    "Top20_reu_2.append(math.ceil(Top20_reu[0]*0.05))\n",
    "Top20_reu_2.append(math.ceil(Top20_reu[1]*0.1))\n",
    "for a1 in Top20_reu[2:]:\n",
    "    Top20_reu_2.append(math.ceil(a1))\n",
    "Top20_reu_2"
   ]
  },
  {
   "cell_type": "code",
   "execution_count": 70,
   "id": "e96d0aa4",
   "metadata": {},
   "outputs": [
    {
     "data": {
      "text/plain": [
       "2424"
      ]
     },
     "execution_count": 70,
     "metadata": {},
     "output_type": "execute_result"
    }
   ],
   "source": [
    "num_top20_reu_2=np.sum(Top20_reu_2)\n",
    "num_top20_reu_2"
   ]
  },
  {
   "cell_type": "code",
   "execution_count": 71,
   "id": "a248f0e2",
   "metadata": {},
   "outputs": [
    {
     "name": "stdout",
     "output_type": "stream",
     "text": [
      "8293\n",
      "18933\n"
     ]
    }
   ],
   "source": [
    "satr_reu=fea_reu.shape[0]\n",
    "sotoon_reu=fea_reu.shape[1]\n",
    "print(satr_reu)\n",
    "print(sotoon_reu)"
   ]
  },
  {
   "cell_type": "code",
   "execution_count": 72,
   "id": "9003070a",
   "metadata": {},
   "outputs": [
    {
     "data": {
      "text/plain": [
       "array([[1., 1., 1., ..., 0., 0., 0.],\n",
       "       [1., 0., 0., ..., 0., 0., 0.],\n",
       "       [1., 0., 0., ..., 0., 0., 0.],\n",
       "       ...,\n",
       "       [1., 0., 0., ..., 0., 0., 0.],\n",
       "       [1., 0., 0., ..., 0., 0., 0.],\n",
       "       [1., 0., 0., ..., 0., 0., 0.]])"
      ]
     },
     "execution_count": 72,
     "metadata": {},
     "output_type": "execute_result"
    }
   ],
   "source": [
    "matrix_reu = fea_reu.toarray()\n",
    "matrix_reu"
   ]
  },
  {
   "cell_type": "code",
   "execution_count": 73,
   "id": "2acfdc56",
   "metadata": {},
   "outputs": [
    {
     "data": {
      "text/plain": [
       "(8293, 18933)"
      ]
     },
     "execution_count": 73,
     "metadata": {},
     "output_type": "execute_result"
    }
   ],
   "source": [
    "np.shape(matrix_reu)"
   ]
  },
  {
   "cell_type": "markdown",
   "id": "67605fa4",
   "metadata": {},
   "source": [
    "## Top 10 of Reuters"
   ]
  },
  {
   "cell_type": "code",
   "execution_count": 74,
   "id": "b022f161",
   "metadata": {},
   "outputs": [
    {
     "data": {
      "text/plain": [
       "array([[1., 1., 1., ..., 0., 0., 0.],\n",
       "       [1., 0., 0., ..., 0., 0., 0.],\n",
       "       [1., 0., 0., ..., 0., 0., 0.],\n",
       "       ...,\n",
       "       [1., 1., 1., ..., 0., 0., 0.],\n",
       "       [1., 1., 1., ..., 0., 0., 0.],\n",
       "       [1., 2., 1., ..., 0., 0., 0.]])"
      ]
     },
     "execution_count": 74,
     "metadata": {},
     "output_type": "execute_result"
    }
   ],
   "source": [
    "matrix_reu_top10=matrix_reu[:int(num_top10_reu)]\n",
    "matrix_reu_top10"
   ]
  },
  {
   "cell_type": "code",
   "execution_count": 75,
   "id": "a288837b",
   "metadata": {},
   "outputs": [
    {
     "data": {
      "text/plain": [
       "(7285, 18933)"
      ]
     },
     "execution_count": 75,
     "metadata": {},
     "output_type": "execute_result"
    }
   ],
   "source": [
    "matrix_reu_top10.shape"
   ]
  },
  {
   "cell_type": "code",
   "execution_count": 76,
   "id": "6610b78f",
   "metadata": {},
   "outputs": [],
   "source": [
    "matrix_reu_top10_2=[]\n",
    "e=0\n",
    "for i in range(10):\n",
    "    tp=Top10_reu_2[i]\n",
    "    mp=matrix_reu_top10[e:e+tp]\n",
    "    for j in mp:\n",
    "        matrix_reu_top10_2.append(list(j))\n",
    "    e+=int(Top10_reu[i])"
   ]
  },
  {
   "cell_type": "code",
   "execution_count": 77,
   "id": "01595ebe",
   "metadata": {},
   "outputs": [
    {
     "data": {
      "text/plain": [
       "(1001, 18933)"
      ]
     },
     "execution_count": 77,
     "metadata": {},
     "output_type": "execute_result"
    }
   ],
   "source": [
    "np.shape(matrix_reu_top10_2)"
   ]
  },
  {
   "cell_type": "markdown",
   "id": "e1d9446d",
   "metadata": {},
   "source": [
    "### Kmeans for Top 10 of Reuters"
   ]
  },
  {
   "cell_type": "code",
   "execution_count": 78,
   "id": "e9a2c2c5",
   "metadata": {},
   "outputs": [],
   "source": [
    "clusters_reu_top10=kmeans(10,matrix_reu_top10_2)"
   ]
  },
  {
   "cell_type": "markdown",
   "id": "5057a3ad",
   "metadata": {},
   "source": [
    "#### clusters of documents with Kmeans for Top 10 of Reuters"
   ]
  },
  {
   "cell_type": "code",
   "execution_count": 79,
   "id": "b230100d",
   "metadata": {},
   "outputs": [
    {
     "data": {
      "text/plain": [
       "array([1, 2, 2, ..., 2, 2, 2])"
      ]
     },
     "execution_count": 79,
     "metadata": {},
     "output_type": "execute_result"
    }
   ],
   "source": [
    "clusters_reu_top10"
   ]
  },
  {
   "cell_type": "code",
   "execution_count": 80,
   "id": "8860e2cd",
   "metadata": {},
   "outputs": [
    {
     "data": {
      "text/plain": [
       "(1001,)"
      ]
     },
     "execution_count": 80,
     "metadata": {},
     "output_type": "execute_result"
    }
   ],
   "source": [
    "clusters_reu_top10.shape"
   ]
  },
  {
   "cell_type": "markdown",
   "id": "502e2f6e",
   "metadata": {},
   "source": [
    "#### number of documents in each cluster"
   ]
  },
  {
   "cell_type": "code",
   "execution_count": 81,
   "id": "9c943ae7",
   "metadata": {},
   "outputs": [
    {
     "data": {
      "text/plain": [
       "array([ 29.,  89., 794.,   6.,   1.,   1.,  11.,   2.,  20.,  48.])"
      ]
     },
     "execution_count": 81,
     "metadata": {},
     "output_type": "execute_result"
    }
   ],
   "source": [
    "num_of_docs_each_cluster(10,clusters_reu_top10)"
   ]
  },
  {
   "cell_type": "markdown",
   "id": "36276411",
   "metadata": {},
   "source": [
    "#### purity of Kmeans clustering for Top 10 of Reuters"
   ]
  },
  {
   "cell_type": "code",
   "execution_count": 82,
   "id": "3f36977c",
   "metadata": {},
   "outputs": [
    {
     "data": {
      "text/plain": [
       "0.38161838161838163"
      ]
     },
     "execution_count": 82,
     "metadata": {},
     "output_type": "execute_result"
    }
   ],
   "source": [
    "purity_kmeans_top10_reu=purity(10,Top10_reu_2,clusters_reu_top10)\n",
    "purity_kmeans_top10_reu"
   ]
  },
  {
   "cell_type": "markdown",
   "id": "57e15608",
   "metadata": {},
   "source": [
    "#### entropy of Kmeans clustering for Top 10 of Reuters"
   ]
  },
  {
   "cell_type": "code",
   "execution_count": 83,
   "id": "f05b7d2c",
   "metadata": {},
   "outputs": [
    {
     "data": {
      "text/plain": [
       "0.7858856966447364"
      ]
     },
     "execution_count": 83,
     "metadata": {},
     "output_type": "execute_result"
    }
   ],
   "source": [
    "entropy_kmeans_top10_reu=entropy(10,Top10_reu_2,clusters_reu_top10)\n",
    "entropy_kmeans_top10_reu"
   ]
  },
  {
   "cell_type": "markdown",
   "id": "06215088",
   "metadata": {},
   "source": [
    "### NMF for Top 10 of Reuters"
   ]
  },
  {
   "cell_type": "code",
   "execution_count": 84,
   "id": "2ba4dcbe",
   "metadata": {},
   "outputs": [],
   "source": [
    "W_reu_top10,H_reu_top10=nmf(10,matrix_reu_top10_2)"
   ]
  },
  {
   "cell_type": "code",
   "execution_count": 85,
   "id": "3e6b6b72",
   "metadata": {},
   "outputs": [
    {
     "data": {
      "text/plain": [
       "(1001, 10)"
      ]
     },
     "execution_count": 85,
     "metadata": {},
     "output_type": "execute_result"
    }
   ],
   "source": [
    "W_reu_top10.shape"
   ]
  },
  {
   "cell_type": "code",
   "execution_count": 86,
   "id": "57b186e2",
   "metadata": {},
   "outputs": [
    {
     "data": {
      "text/plain": [
       "(10, 18933)"
      ]
     },
     "execution_count": 86,
     "metadata": {},
     "output_type": "execute_result"
    }
   ],
   "source": [
    "H_reu_top10.shape"
   ]
  },
  {
   "cell_type": "markdown",
   "id": "488de2c5",
   "metadata": {},
   "source": [
    "#### clusters of documents with NMF for Top 10 of Reuters"
   ]
  },
  {
   "cell_type": "code",
   "execution_count": 87,
   "id": "6700824d",
   "metadata": {},
   "outputs": [
    {
     "data": {
      "text/plain": [
       "[2,\n",
       " 2,\n",
       " 0,\n",
       " 2,\n",
       " 2,\n",
       " 2,\n",
       " 2,\n",
       " 4,\n",
       " 2,\n",
       " 2,\n",
       " 2,\n",
       " 4,\n",
       " 2,\n",
       " 2,\n",
       " 8,\n",
       " 2,\n",
       " 2,\n",
       " 2,\n",
       " 2,\n",
       " 2,\n",
       " 0,\n",
       " 2,\n",
       " 0,\n",
       " 2,\n",
       " 2,\n",
       " 2,\n",
       " 2,\n",
       " 2,\n",
       " 4,\n",
       " 2,\n",
       " 0,\n",
       " 4,\n",
       " 2,\n",
       " 0,\n",
       " 2,\n",
       " 2,\n",
       " 2,\n",
       " 0,\n",
       " 0,\n",
       " 2,\n",
       " 4,\n",
       " 2,\n",
       " 2,\n",
       " 4,\n",
       " 3,\n",
       " 2,\n",
       " 2,\n",
       " 8,\n",
       " 4,\n",
       " 2,\n",
       " 4,\n",
       " 4,\n",
       " 2,\n",
       " 8,\n",
       " 8,\n",
       " 2,\n",
       " 0,\n",
       " 2,\n",
       " 2,\n",
       " 2,\n",
       " 2,\n",
       " 2,\n",
       " 2,\n",
       " 4,\n",
       " 2,\n",
       " 2,\n",
       " 2,\n",
       " 2,\n",
       " 2,\n",
       " 2,\n",
       " 2,\n",
       " 0,\n",
       " 2,\n",
       " 0,\n",
       " 2,\n",
       " 2,\n",
       " 4,\n",
       " 0,\n",
       " 4,\n",
       " 2,\n",
       " 2,\n",
       " 4,\n",
       " 2,\n",
       " 2,\n",
       " 2,\n",
       " 2,\n",
       " 2,\n",
       " 2,\n",
       " 2,\n",
       " 0,\n",
       " 0,\n",
       " 8,\n",
       " 2,\n",
       " 2,\n",
       " 4,\n",
       " 2,\n",
       " 4,\n",
       " 0,\n",
       " 8,\n",
       " 4,\n",
       " 2,\n",
       " 7,\n",
       " 2,\n",
       " 2,\n",
       " 2,\n",
       " 9,\n",
       " 2,\n",
       " 4,\n",
       " 2,\n",
       " 2,\n",
       " 2,\n",
       " 2,\n",
       " 2,\n",
       " 4,\n",
       " 2,\n",
       " 2,\n",
       " 2,\n",
       " 0,\n",
       " 0,\n",
       " 8,\n",
       " 4,\n",
       " 2,\n",
       " 2,\n",
       " 2,\n",
       " 3,\n",
       " 4,\n",
       " 2,\n",
       " 2,\n",
       " 2,\n",
       " 4,\n",
       " 2,\n",
       " 0,\n",
       " 2,\n",
       " 0,\n",
       " 2,\n",
       " 0,\n",
       " 4,\n",
       " 2,\n",
       " 2,\n",
       " 2,\n",
       " 2,\n",
       " 0,\n",
       " 4,\n",
       " 2,\n",
       " 2,\n",
       " 2,\n",
       " 4,\n",
       " 3,\n",
       " 8,\n",
       " 4,\n",
       " 4,\n",
       " 2,\n",
       " 0,\n",
       " 2,\n",
       " 2,\n",
       " 4,\n",
       " 2,\n",
       " 4,\n",
       " 2,\n",
       " 9,\n",
       " 2,\n",
       " 4,\n",
       " 2,\n",
       " 2,\n",
       " 8,\n",
       " 2,\n",
       " 4,\n",
       " 4,\n",
       " 8,\n",
       " 2,\n",
       " 2,\n",
       " 2,\n",
       " 2,\n",
       " 0,\n",
       " 2,\n",
       " 4,\n",
       " 2,\n",
       " 2,\n",
       " 0,\n",
       " 4,\n",
       " 2,\n",
       " 3,\n",
       " 2,\n",
       " 4,\n",
       " 2,\n",
       " 2,\n",
       " 0,\n",
       " 0,\n",
       " 4,\n",
       " 4,\n",
       " 0,\n",
       " 4,\n",
       " 4,\n",
       " 4,\n",
       " 1,\n",
       " 0,\n",
       " 0,\n",
       " 0,\n",
       " 0,\n",
       " 0,\n",
       " 0,\n",
       " 3,\n",
       " 3,\n",
       " 0,\n",
       " 0,\n",
       " 0,\n",
       " 0,\n",
       " 0,\n",
       " 0,\n",
       " 0,\n",
       " 0,\n",
       " 4,\n",
       " 4,\n",
       " 0,\n",
       " 4,\n",
       " 0,\n",
       " 0,\n",
       " 0,\n",
       " 4,\n",
       " 0,\n",
       " 0,\n",
       " 0,\n",
       " 9,\n",
       " 0,\n",
       " 4,\n",
       " 0,\n",
       " 0,\n",
       " 0,\n",
       " 0,\n",
       " 0,\n",
       " 0,\n",
       " 0,\n",
       " 0,\n",
       " 4,\n",
       " 4,\n",
       " 0,\n",
       " 0,\n",
       " 3,\n",
       " 4,\n",
       " 0,\n",
       " 0,\n",
       " 3,\n",
       " 0,\n",
       " 4,\n",
       " 8,\n",
       " 4,\n",
       " 0,\n",
       " 0,\n",
       " 0,\n",
       " 3,\n",
       " 0,\n",
       " 0,\n",
       " 0,\n",
       " 0,\n",
       " 0,\n",
       " 4,\n",
       " 3,\n",
       " 3,\n",
       " 9,\n",
       " 1,\n",
       " 3,\n",
       " 3,\n",
       " 3,\n",
       " 1,\n",
       " 3,\n",
       " 4,\n",
       " 0,\n",
       " 3,\n",
       " 0,\n",
       " 4,\n",
       " 3,\n",
       " 0,\n",
       " 9,\n",
       " 3,\n",
       " 0,\n",
       " 0,\n",
       " 0,\n",
       " 0,\n",
       " 0,\n",
       " 0,\n",
       " 0,\n",
       " 3,\n",
       " 4,\n",
       " 0,\n",
       " 0,\n",
       " 0,\n",
       " 0,\n",
       " 3,\n",
       " 9,\n",
       " 0,\n",
       " 8,\n",
       " 3,\n",
       " 0,\n",
       " 0,\n",
       " 3,\n",
       " 3,\n",
       " 4,\n",
       " 0,\n",
       " 3,\n",
       " 0,\n",
       " 3,\n",
       " 3,\n",
       " 1,\n",
       " 4,\n",
       " 4,\n",
       " 0,\n",
       " 0,\n",
       " 3,\n",
       " 0,\n",
       " 0,\n",
       " 1,\n",
       " 0,\n",
       " 0,\n",
       " 0,\n",
       " 0,\n",
       " 4,\n",
       " 0,\n",
       " 0,\n",
       " 4,\n",
       " 0,\n",
       " 0,\n",
       " 0,\n",
       " 4,\n",
       " 0,\n",
       " 0,\n",
       " 0,\n",
       " 0,\n",
       " 4,\n",
       " 0,\n",
       " 3,\n",
       " 0,\n",
       " 0,\n",
       " 0,\n",
       " 0,\n",
       " 0,\n",
       " 0,\n",
       " 0,\n",
       " 4,\n",
       " 0,\n",
       " 4,\n",
       " 0,\n",
       " 4,\n",
       " 0,\n",
       " 4,\n",
       " 0,\n",
       " 0,\n",
       " 0,\n",
       " 0,\n",
       " 0,\n",
       " 0,\n",
       " 0,\n",
       " 0,\n",
       " 4,\n",
       " 3,\n",
       " 0,\n",
       " 0,\n",
       " 0,\n",
       " 3,\n",
       " 0,\n",
       " 3,\n",
       " 0,\n",
       " 0,\n",
       " 0,\n",
       " 0,\n",
       " 0,\n",
       " 0,\n",
       " 0,\n",
       " 0,\n",
       " 0,\n",
       " 0,\n",
       " 3,\n",
       " 0,\n",
       " 0,\n",
       " 4,\n",
       " 3,\n",
       " 9,\n",
       " 0,\n",
       " 0,\n",
       " 9,\n",
       " 4,\n",
       " 1,\n",
       " 0,\n",
       " 7,\n",
       " 3,\n",
       " 0,\n",
       " 0,\n",
       " 3,\n",
       " 0,\n",
       " 0,\n",
       " 0,\n",
       " 0,\n",
       " 0,\n",
       " 5,\n",
       " 3,\n",
       " 5,\n",
       " 9,\n",
       " 3,\n",
       " 5,\n",
       " 5,\n",
       " 5,\n",
       " 5,\n",
       " 5,\n",
       " 5,\n",
       " 5,\n",
       " 5,\n",
       " 4,\n",
       " 5,\n",
       " 0,\n",
       " 5,\n",
       " 5,\n",
       " 5,\n",
       " 5,\n",
       " 5,\n",
       " 0,\n",
       " 5,\n",
       " 5,\n",
       " 5,\n",
       " 3,\n",
       " 5,\n",
       " 5,\n",
       " 5,\n",
       " 5,\n",
       " 4,\n",
       " 5,\n",
       " 0,\n",
       " 5,\n",
       " 4,\n",
       " 9,\n",
       " 5,\n",
       " 5,\n",
       " 5,\n",
       " 5,\n",
       " 5,\n",
       " 5,\n",
       " 5,\n",
       " 5,\n",
       " 5,\n",
       " 9,\n",
       " 5,\n",
       " 5,\n",
       " 5,\n",
       " 5,\n",
       " 5,\n",
       " 5,\n",
       " 5,\n",
       " 0,\n",
       " 5,\n",
       " 5,\n",
       " 5,\n",
       " 5,\n",
       " 5,\n",
       " 5,\n",
       " 5,\n",
       " 5,\n",
       " 5,\n",
       " 0,\n",
       " 5,\n",
       " 4,\n",
       " 5,\n",
       " 5,\n",
       " 5,\n",
       " 0,\n",
       " 5,\n",
       " 5,\n",
       " 5,\n",
       " 5,\n",
       " 0,\n",
       " 5,\n",
       " 5,\n",
       " 5,\n",
       " 5,\n",
       " 3,\n",
       " 5,\n",
       " 3,\n",
       " 5,\n",
       " 5,\n",
       " 4,\n",
       " 5,\n",
       " 5,\n",
       " 4,\n",
       " 5,\n",
       " 5,\n",
       " 5,\n",
       " 5,\n",
       " 5,\n",
       " 5,\n",
       " 0,\n",
       " 5,\n",
       " 5,\n",
       " 5,\n",
       " 4,\n",
       " 5,\n",
       " 5,\n",
       " 5,\n",
       " 9,\n",
       " 5,\n",
       " 5,\n",
       " 5,\n",
       " 3,\n",
       " 0,\n",
       " 3,\n",
       " 5,\n",
       " 5,\n",
       " 5,\n",
       " 3,\n",
       " 5,\n",
       " 5,\n",
       " 5,\n",
       " 8,\n",
       " 0,\n",
       " 4,\n",
       " 8,\n",
       " 3,\n",
       " 8,\n",
       " 4,\n",
       " 5,\n",
       " 5,\n",
       " 5,\n",
       " 0,\n",
       " 8,\n",
       " 3,\n",
       " 8,\n",
       " 8,\n",
       " 1,\n",
       " 8,\n",
       " 1,\n",
       " 1,\n",
       " 1,\n",
       " 8,\n",
       " 9,\n",
       " 1,\n",
       " 9,\n",
       " 1,\n",
       " 8,\n",
       " 1,\n",
       " 1,\n",
       " 1,\n",
       " 1,\n",
       " 1,\n",
       " 9,\n",
       " 1,\n",
       " 1,\n",
       " 9,\n",
       " 1,\n",
       " 8,\n",
       " 1,\n",
       " 9,\n",
       " 1,\n",
       " 1,\n",
       " 1,\n",
       " 1,\n",
       " 1,\n",
       " 1,\n",
       " 8,\n",
       " 8,\n",
       " 1,\n",
       " 4,\n",
       " 1,\n",
       " 1,\n",
       " 1,\n",
       " 1,\n",
       " 1,\n",
       " 8,\n",
       " 1,\n",
       " 1,\n",
       " 1,\n",
       " 8,\n",
       " 8,\n",
       " 1,\n",
       " 1,\n",
       " 1,\n",
       " 1,\n",
       " 1,\n",
       " 1,\n",
       " 9,\n",
       " 1,\n",
       " 8,\n",
       " 1,\n",
       " 1,\n",
       " 9,\n",
       " 1,\n",
       " 1,\n",
       " 1,\n",
       " 1,\n",
       " 1,\n",
       " 1,\n",
       " 8,\n",
       " 1,\n",
       " 1,\n",
       " 1,\n",
       " 1,\n",
       " 8,\n",
       " 8,\n",
       " 1,\n",
       " 1,\n",
       " 1,\n",
       " 6,\n",
       " 1,\n",
       " 1,\n",
       " 1,\n",
       " 1,\n",
       " 8,\n",
       " 1,\n",
       " 1,\n",
       " 1,\n",
       " 1,\n",
       " 1,\n",
       " 1,\n",
       " 1,\n",
       " 8,\n",
       " 8,\n",
       " 8,\n",
       " 1,\n",
       " 1,\n",
       " 1,\n",
       " 9,\n",
       " 1,\n",
       " 1,\n",
       " 1,\n",
       " 1,\n",
       " 8,\n",
       " 8,\n",
       " 1,\n",
       " 1,\n",
       " 1,\n",
       " 1,\n",
       " 1,\n",
       " 9,\n",
       " 1,\n",
       " 3,\n",
       " 1,\n",
       " 9,\n",
       " 1,\n",
       " 1,\n",
       " 1,\n",
       " 1,\n",
       " 1,\n",
       " 1,\n",
       " 8,\n",
       " 1,\n",
       " 1,\n",
       " 4,\n",
       " 3,\n",
       " 9,\n",
       " 9,\n",
       " 4,\n",
       " 8,\n",
       " 4,\n",
       " 8,\n",
       " 4,\n",
       " 4,\n",
       " 9,\n",
       " 4,\n",
       " 3,\n",
       " 4,\n",
       " 8,\n",
       " 4,\n",
       " 4,\n",
       " 9,\n",
       " 4,\n",
       " 9,\n",
       " 9,\n",
       " 9,\n",
       " 9,\n",
       " 9,\n",
       " 9,\n",
       " 8,\n",
       " 9,\n",
       " 9,\n",
       " 4,\n",
       " 9,\n",
       " 9,\n",
       " 9,\n",
       " 9,\n",
       " 9,\n",
       " 9,\n",
       " 8,\n",
       " 3,\n",
       " 3,\n",
       " 9,\n",
       " 9,\n",
       " 9,\n",
       " 9,\n",
       " 9,\n",
       " 9,\n",
       " 9,\n",
       " 4,\n",
       " 4,\n",
       " 9,\n",
       " 9,\n",
       " 3,\n",
       " 9,\n",
       " 9,\n",
       " 9,\n",
       " 8,\n",
       " 3,\n",
       " 9,\n",
       " 3,\n",
       " 9,\n",
       " 4,\n",
       " 9,\n",
       " 4,\n",
       " 3,\n",
       " 1,\n",
       " 9,\n",
       " 4,\n",
       " 9,\n",
       " 9,\n",
       " 4,\n",
       " 3,\n",
       " 9,\n",
       " 9,\n",
       " 4,\n",
       " 9,\n",
       " 3,\n",
       " 3,\n",
       " 3,\n",
       " 9,\n",
       " 9,\n",
       " 4,\n",
       " 4,\n",
       " 9,\n",
       " 9,\n",
       " 4,\n",
       " 9,\n",
       " 4,\n",
       " 4,\n",
       " 9,\n",
       " 4,\n",
       " 4,\n",
       " 4,\n",
       " 4,\n",
       " 8,\n",
       " 9,\n",
       " 9,\n",
       " 9,\n",
       " 3,\n",
       " 9,\n",
       " 9,\n",
       " 3,\n",
       " 9,\n",
       " 3,\n",
       " 3,\n",
       " 9,\n",
       " 3,\n",
       " 3,\n",
       " 3,\n",
       " 3,\n",
       " 9,\n",
       " 3,\n",
       " 3,\n",
       " 3,\n",
       " 3,\n",
       " 4,\n",
       " 3,\n",
       " 3,\n",
       " 3,\n",
       " 3,\n",
       " 3,\n",
       " 3,\n",
       " 3,\n",
       " 3,\n",
       " 3,\n",
       " 3,\n",
       " 9,\n",
       " 3,\n",
       " 3,\n",
       " 3,\n",
       " 3,\n",
       " 3,\n",
       " 3,\n",
       " 3,\n",
       " 3,\n",
       " 3,\n",
       " 3,\n",
       " 3,\n",
       " 3,\n",
       " 3,\n",
       " 3,\n",
       " 3,\n",
       " 3,\n",
       " 3,\n",
       " 9,\n",
       " 3,\n",
       " 3,\n",
       " 9,\n",
       " 3,\n",
       " 3,\n",
       " 3,\n",
       " 3,\n",
       " 3,\n",
       " 3,\n",
       " 9,\n",
       " 3,\n",
       " 3,\n",
       " 3,\n",
       " 3,\n",
       " 3,\n",
       " 3,\n",
       " 3,\n",
       " 3,\n",
       " 9,\n",
       " 3,\n",
       " 3,\n",
       " 3,\n",
       " 3,\n",
       " 3,\n",
       " 3,\n",
       " 9,\n",
       " 3,\n",
       " 9,\n",
       " 3,\n",
       " 3,\n",
       " 3,\n",
       " 9,\n",
       " 9,\n",
       " 3,\n",
       " 3,\n",
       " 4,\n",
       " 0,\n",
       " 8,\n",
       " 4,\n",
       " 5,\n",
       " 1,\n",
       " 3,\n",
       " 1,\n",
       " 4,\n",
       " 3,\n",
       " 6,\n",
       " 0,\n",
       " 3,\n",
       " 0,\n",
       " 7,\n",
       " 3,\n",
       " 3,\n",
       " 9,\n",
       " 4,\n",
       " 3,\n",
       " 2,\n",
       " 0,\n",
       " 4,\n",
       " 5,\n",
       " 1,\n",
       " 0,\n",
       " 0,\n",
       " 5,\n",
       " 1,\n",
       " 9,\n",
       " 9,\n",
       " 9,\n",
       " 4,\n",
       " 4,\n",
       " 1,\n",
       " 5,\n",
       " 1,\n",
       " 6,\n",
       " 6,\n",
       " 9,\n",
       " 3,\n",
       " 4,\n",
       " 4,\n",
       " 3,\n",
       " 0,\n",
       " 3,\n",
       " 3,\n",
       " 3,\n",
       " 3,\n",
       " 4,\n",
       " 9,\n",
       " 9,\n",
       " 3,\n",
       " 1,\n",
       " 9,\n",
       " 5,\n",
       " 3,\n",
       " 7,\n",
       " 7,\n",
       " 7,\n",
       " 3,\n",
       " 7,\n",
       " 7,\n",
       " 4,\n",
       " 7,\n",
       " 7,\n",
       " 7,\n",
       " 7,\n",
       " 7,\n",
       " 7,\n",
       " 7,\n",
       " 7,\n",
       " 7,\n",
       " 7,\n",
       " 7,\n",
       " 7,\n",
       " 7,\n",
       " 6,\n",
       " 7,\n",
       " 7,\n",
       " 4,\n",
       " 7,\n",
       " 7,\n",
       " 7,\n",
       " 7,\n",
       " 4,\n",
       " 7,\n",
       " 7,\n",
       " 7,\n",
       " 7,\n",
       " 7,\n",
       " 7,\n",
       " 7,\n",
       " 7,\n",
       " 7,\n",
       " 7,\n",
       " 7,\n",
       " 7,\n",
       " 7,\n",
       " 7,\n",
       " 7,\n",
       " 7,\n",
       " 7,\n",
       " 6,\n",
       " 4,\n",
       " 6,\n",
       " 6,\n",
       " 8,\n",
       " 6,\n",
       " 6,\n",
       " 6,\n",
       " 6,\n",
       " 6,\n",
       " 6,\n",
       " 6,\n",
       " 6,\n",
       " 6,\n",
       " 7,\n",
       " 6,\n",
       " 6,\n",
       " 6,\n",
       " 6,\n",
       " 6,\n",
       " 6,\n",
       " 6,\n",
       " 6,\n",
       " 6,\n",
       " 6,\n",
       " 6,\n",
       " 6,\n",
       " 6,\n",
       " 6,\n",
       " 6,\n",
       " 6,\n",
       " 6,\n",
       " 6,\n",
       " 4,\n",
       " 7,\n",
       " 4,\n",
       " 6,\n",
       " 6,\n",
       " 6,\n",
       " 6,\n",
       " 6,\n",
       " 6,\n",
       " 6,\n",
       " 6,\n",
       " 8,\n",
       " 9,\n",
       " 4,\n",
       " 0,\n",
       " 4,\n",
       " 0,\n",
       " 1,\n",
       " 0,\n",
       " 3,\n",
       " 7,\n",
       " 0,\n",
       " 3,\n",
       " 0,\n",
       " 0,\n",
       " 7,\n",
       " 0,\n",
       " 3,\n",
       " 0,\n",
       " 3,\n",
       " 8,\n",
       " 0,\n",
       " 0,\n",
       " 4,\n",
       " 0,\n",
       " 0,\n",
       " 4,\n",
       " 0,\n",
       " 1,\n",
       " 9,\n",
       " 9,\n",
       " 9,\n",
       " 0,\n",
       " 3,\n",
       " 4,\n",
       " 3,\n",
       " ...]"
      ]
     },
     "execution_count": 87,
     "metadata": {},
     "output_type": "execute_result"
    }
   ],
   "source": [
    "max_index_reu_top10=[]\n",
    "for document in W_reu_top10:\n",
    "    max_index_reu_top10.append(np.argmax(document))\n",
    "max_index_reu_top10"
   ]
  },
  {
   "cell_type": "code",
   "execution_count": 88,
   "id": "3248278b",
   "metadata": {},
   "outputs": [
    {
     "data": {
      "text/plain": [
       "(1001,)"
      ]
     },
     "execution_count": 88,
     "metadata": {},
     "output_type": "execute_result"
    }
   ],
   "source": [
    "np.shape(max_index_reu_top10)"
   ]
  },
  {
   "cell_type": "markdown",
   "id": "920e1b54",
   "metadata": {},
   "source": [
    "#### number of documents in each cluster"
   ]
  },
  {
   "cell_type": "code",
   "execution_count": 89,
   "id": "dd7d2d51",
   "metadata": {},
   "outputs": [
    {
     "data": {
      "text/plain": [
       "array([182., 102., 113., 146., 126.,  96.,  43.,  48.,  49.,  96.])"
      ]
     },
     "execution_count": 89,
     "metadata": {},
     "output_type": "execute_result"
    }
   ],
   "source": [
    "num_of_docs_each_cluster(10,max_index_reu_top10)"
   ]
  },
  {
   "cell_type": "markdown",
   "id": "0b49e944",
   "metadata": {},
   "source": [
    "#### purity of NMF clustering for Top 10 of Reuters"
   ]
  },
  {
   "cell_type": "code",
   "execution_count": 90,
   "id": "065aa7ba",
   "metadata": {},
   "outputs": [
    {
     "data": {
      "text/plain": [
       "0.6653346653346653"
      ]
     },
     "execution_count": 90,
     "metadata": {},
     "output_type": "execute_result"
    }
   ],
   "source": [
    "purity_nmf_top10_reu=purity(10,Top10_reu_2,max_index_reu_top10)\n",
    "purity_nmf_top10_reu"
   ]
  },
  {
   "cell_type": "markdown",
   "id": "ec580b68",
   "metadata": {},
   "source": [
    "#### entropy of NMF clustering for Top 10 of Reuters"
   ]
  },
  {
   "cell_type": "code",
   "execution_count": 91,
   "id": "b83e42bc",
   "metadata": {},
   "outputs": [
    {
     "data": {
      "text/plain": [
       "0.44095378785685646"
      ]
     },
     "execution_count": 91,
     "metadata": {},
     "output_type": "execute_result"
    }
   ],
   "source": [
    "entropy_nmf_top10_reu=entropy(10,Top10_reu_2,max_index_reu_top10)\n",
    "entropy_nmf_top10_reu"
   ]
  },
  {
   "cell_type": "markdown",
   "id": "d4d834bf",
   "metadata": {},
   "source": [
    "## Top 20 of Reuters"
   ]
  },
  {
   "cell_type": "code",
   "execution_count": 92,
   "id": "e56954e7",
   "metadata": {},
   "outputs": [
    {
     "data": {
      "text/plain": [
       "array([[1., 1., 1., ..., 0., 0., 0.],\n",
       "       [1., 0., 0., ..., 0., 0., 0.],\n",
       "       [1., 0., 0., ..., 0., 0., 0.],\n",
       "       ...,\n",
       "       [1., 0., 0., ..., 0., 0., 0.],\n",
       "       [1., 2., 1., ..., 0., 0., 0.],\n",
       "       [1., 1., 1., ..., 0., 0., 0.]])"
      ]
     },
     "execution_count": 92,
     "metadata": {},
     "output_type": "execute_result"
    }
   ],
   "source": [
    "matrix_reu_top20=matrix_reu[:int(num_top20_reu)]\n",
    "matrix_reu_top20"
   ]
  },
  {
   "cell_type": "code",
   "execution_count": 93,
   "id": "2fd22915",
   "metadata": {},
   "outputs": [
    {
     "data": {
      "text/plain": [
       "(7800, 18933)"
      ]
     },
     "execution_count": 93,
     "metadata": {},
     "output_type": "execute_result"
    }
   ],
   "source": [
    "matrix_reu_top20.shape"
   ]
  },
  {
   "cell_type": "code",
   "execution_count": 94,
   "id": "ee5e550d",
   "metadata": {},
   "outputs": [],
   "source": [
    "matrix_reu_top20_2=[]\n",
    "e=0\n",
    "for i in range(20):\n",
    "    tp=Top20_reu_2[i]\n",
    "    mp=matrix_reu_top20[e:e+tp]\n",
    "    for j in mp:\n",
    "        matrix_reu_top20_2.append(list(j))\n",
    "    e+=int(Top20_reu[i])"
   ]
  },
  {
   "cell_type": "code",
   "execution_count": 95,
   "id": "3eeee3c8",
   "metadata": {},
   "outputs": [
    {
     "data": {
      "text/plain": [
       "(2424, 18933)"
      ]
     },
     "execution_count": 95,
     "metadata": {},
     "output_type": "execute_result"
    }
   ],
   "source": [
    "np.shape(matrix_reu_top20_2)"
   ]
  },
  {
   "cell_type": "markdown",
   "id": "bc6209fc",
   "metadata": {},
   "source": [
    "### Kmeans for Top 20 of Reuters"
   ]
  },
  {
   "cell_type": "code",
   "execution_count": 96,
   "id": "47b24233",
   "metadata": {},
   "outputs": [],
   "source": [
    "clusters_reu_top20=kmeans(20,matrix_reu_top20_2)"
   ]
  },
  {
   "cell_type": "markdown",
   "id": "18417bdc",
   "metadata": {},
   "source": [
    "#### clusters of documents with Kmeans for Top 10 of Reuters"
   ]
  },
  {
   "cell_type": "code",
   "execution_count": 97,
   "id": "41f5b10c",
   "metadata": {},
   "outputs": [
    {
     "data": {
      "text/plain": [
       "array([ 4, 11, 11, ...,  8, 11, 11])"
      ]
     },
     "execution_count": 97,
     "metadata": {},
     "output_type": "execute_result"
    }
   ],
   "source": [
    "clusters_reu_top20"
   ]
  },
  {
   "cell_type": "code",
   "execution_count": 98,
   "id": "3deec799",
   "metadata": {},
   "outputs": [
    {
     "data": {
      "text/plain": [
       "(2424,)"
      ]
     },
     "execution_count": 98,
     "metadata": {},
     "output_type": "execute_result"
    }
   ],
   "source": [
    "clusters_reu_top20.shape"
   ]
  },
  {
   "cell_type": "markdown",
   "id": "dc1b90a1",
   "metadata": {},
   "source": [
    "#### number of documents in each cluster"
   ]
  },
  {
   "cell_type": "code",
   "execution_count": 99,
   "id": "3b38e28a",
   "metadata": {},
   "outputs": [
    {
     "data": {
      "text/plain": [
       "array([1.520e+02, 6.000e+01, 1.340e+02, 1.000e+00, 7.000e+01, 1.130e+02,\n",
       "       8.000e+01, 6.000e+01, 2.300e+01, 2.300e+01, 2.000e+00, 1.381e+03,\n",
       "       6.800e+01, 1.820e+02, 1.000e+00, 2.000e+01, 3.000e+00, 1.000e+00,\n",
       "       4.400e+01, 6.000e+00])"
      ]
     },
     "execution_count": 99,
     "metadata": {},
     "output_type": "execute_result"
    }
   ],
   "source": [
    "num_of_docs_each_cluster(20,clusters_reu_top20)"
   ]
  },
  {
   "cell_type": "markdown",
   "id": "1585ed18",
   "metadata": {},
   "source": [
    "#### purity of Kmeans clustering for Top 20 of Reuters"
   ]
  },
  {
   "cell_type": "code",
   "execution_count": 100,
   "id": "65ae77e9",
   "metadata": {},
   "outputs": [
    {
     "data": {
      "text/plain": [
       "0.33663366336633666"
      ]
     },
     "execution_count": 100,
     "metadata": {},
     "output_type": "execute_result"
    }
   ],
   "source": [
    "purity_kmeans_top20_reu=purity(20,Top20_reu_2,clusters_reu_top20)\n",
    "purity_kmeans_top20_reu"
   ]
  },
  {
   "cell_type": "markdown",
   "id": "251a00a0",
   "metadata": {},
   "source": [
    "#### entropy of Kmeans clustering for Top 20 of Reuters"
   ]
  },
  {
   "cell_type": "code",
   "execution_count": 101,
   "id": "8fdc4efd",
   "metadata": {},
   "outputs": [
    {
     "data": {
      "text/plain": [
       "0.6765307064747804"
      ]
     },
     "execution_count": 101,
     "metadata": {},
     "output_type": "execute_result"
    }
   ],
   "source": [
    "entropy_kmeans_top20_reu=entropy(20,Top20_reu_2,clusters_reu_top20)\n",
    "entropy_kmeans_top20_reu"
   ]
  },
  {
   "cell_type": "markdown",
   "id": "45040e95",
   "metadata": {},
   "source": [
    "### NMF for Top 20 of Reuters"
   ]
  },
  {
   "cell_type": "code",
   "execution_count": 102,
   "id": "4a8437ca",
   "metadata": {},
   "outputs": [],
   "source": [
    "W_reu_top20,H_reu_top20=nmf(20,matrix_reu_top20_2)"
   ]
  },
  {
   "cell_type": "code",
   "execution_count": 103,
   "id": "944e4519",
   "metadata": {},
   "outputs": [
    {
     "data": {
      "text/plain": [
       "(2424, 20)"
      ]
     },
     "execution_count": 103,
     "metadata": {},
     "output_type": "execute_result"
    }
   ],
   "source": [
    "W_reu_top20.shape"
   ]
  },
  {
   "cell_type": "code",
   "execution_count": 104,
   "id": "1fbb213c",
   "metadata": {},
   "outputs": [
    {
     "data": {
      "text/plain": [
       "(20, 18933)"
      ]
     },
     "execution_count": 104,
     "metadata": {},
     "output_type": "execute_result"
    }
   ],
   "source": [
    "H_reu_top20.shape"
   ]
  },
  {
   "cell_type": "markdown",
   "id": "b2c0cff9",
   "metadata": {},
   "source": [
    "#### clusters of documents with NMF for Top 20 of Reuters"
   ]
  },
  {
   "cell_type": "code",
   "execution_count": 105,
   "id": "23d8fc73",
   "metadata": {},
   "outputs": [
    {
     "data": {
      "text/plain": [
       "[10,\n",
       " 10,\n",
       " 17,\n",
       " 10,\n",
       " 10,\n",
       " 10,\n",
       " 10,\n",
       " 10,\n",
       " 10,\n",
       " 10,\n",
       " 10,\n",
       " 3,\n",
       " 10,\n",
       " 10,\n",
       " 3,\n",
       " 10,\n",
       " 10,\n",
       " 10,\n",
       " 10,\n",
       " 10,\n",
       " 3,\n",
       " 17,\n",
       " 3,\n",
       " 10,\n",
       " 10,\n",
       " 10,\n",
       " 10,\n",
       " 10,\n",
       " 3,\n",
       " 10,\n",
       " 17,\n",
       " 3,\n",
       " 10,\n",
       " 17,\n",
       " 10,\n",
       " 10,\n",
       " 10,\n",
       " 17,\n",
       " 17,\n",
       " 10,\n",
       " 10,\n",
       " 10,\n",
       " 10,\n",
       " 3,\n",
       " 1,\n",
       " 10,\n",
       " 10,\n",
       " 7,\n",
       " 17,\n",
       " 10,\n",
       " 10,\n",
       " 17,\n",
       " 10,\n",
       " 7,\n",
       " 7,\n",
       " 10,\n",
       " 17,\n",
       " 10,\n",
       " 10,\n",
       " 10,\n",
       " 10,\n",
       " 10,\n",
       " 10,\n",
       " 1,\n",
       " 10,\n",
       " 10,\n",
       " 10,\n",
       " 17,\n",
       " 10,\n",
       " 10,\n",
       " 10,\n",
       " 17,\n",
       " 10,\n",
       " 17,\n",
       " 10,\n",
       " 10,\n",
       " 17,\n",
       " 17,\n",
       " 3,\n",
       " 10,\n",
       " 10,\n",
       " 10,\n",
       " 10,\n",
       " 10,\n",
       " 10,\n",
       " 10,\n",
       " 10,\n",
       " 10,\n",
       " 10,\n",
       " 17,\n",
       " 17,\n",
       " 10,\n",
       " 10,\n",
       " 10,\n",
       " 10,\n",
       " 10,\n",
       " 10,\n",
       " 17,\n",
       " 10,\n",
       " 10,\n",
       " 10,\n",
       " 17,\n",
       " 10,\n",
       " 10,\n",
       " 10,\n",
       " 18,\n",
       " 10,\n",
       " 3,\n",
       " 10,\n",
       " 10,\n",
       " 10,\n",
       " 10,\n",
       " 10,\n",
       " 10,\n",
       " 10,\n",
       " 10,\n",
       " 10,\n",
       " 17,\n",
       " 17,\n",
       " 7,\n",
       " 17,\n",
       " 10,\n",
       " 10,\n",
       " 10,\n",
       " 1,\n",
       " 10,\n",
       " 10,\n",
       " 10,\n",
       " 10,\n",
       " 3,\n",
       " 10,\n",
       " 17,\n",
       " 10,\n",
       " 17,\n",
       " 17,\n",
       " 3,\n",
       " 3,\n",
       " 10,\n",
       " 10,\n",
       " 10,\n",
       " 10,\n",
       " 17,\n",
       " 10,\n",
       " 10,\n",
       " 10,\n",
       " 10,\n",
       " 10,\n",
       " 1,\n",
       " 7,\n",
       " 10,\n",
       " 17,\n",
       " 10,\n",
       " 17,\n",
       " 10,\n",
       " 10,\n",
       " 17,\n",
       " 10,\n",
       " 3,\n",
       " 10,\n",
       " 18,\n",
       " 10,\n",
       " 3,\n",
       " 10,\n",
       " 10,\n",
       " 7,\n",
       " 10,\n",
       " 17,\n",
       " 3,\n",
       " 7,\n",
       " 10,\n",
       " 10,\n",
       " 10,\n",
       " 10,\n",
       " 3,\n",
       " 10,\n",
       " 10,\n",
       " 10,\n",
       " 10,\n",
       " 17,\n",
       " 17,\n",
       " 10,\n",
       " 1,\n",
       " 10,\n",
       " 3,\n",
       " 10,\n",
       " 10,\n",
       " 17,\n",
       " 17,\n",
       " 3,\n",
       " 17,\n",
       " 17,\n",
       " 17,\n",
       " 17,\n",
       " 17,\n",
       " 12,\n",
       " 17,\n",
       " 17,\n",
       " 17,\n",
       " 17,\n",
       " 17,\n",
       " 17,\n",
       " 1,\n",
       " 17,\n",
       " 3,\n",
       " 17,\n",
       " 17,\n",
       " 17,\n",
       " 17,\n",
       " 17,\n",
       " 17,\n",
       " 17,\n",
       " 18,\n",
       " 3,\n",
       " 3,\n",
       " 17,\n",
       " 17,\n",
       " 17,\n",
       " 17,\n",
       " 17,\n",
       " 17,\n",
       " 17,\n",
       " 17,\n",
       " 17,\n",
       " 17,\n",
       " 3,\n",
       " 17,\n",
       " 17,\n",
       " 17,\n",
       " 17,\n",
       " 3,\n",
       " 17,\n",
       " 17,\n",
       " 3,\n",
       " 3,\n",
       " 3,\n",
       " 17,\n",
       " 17,\n",
       " 17,\n",
       " 17,\n",
       " 17,\n",
       " 17,\n",
       " 17,\n",
       " 17,\n",
       " 12,\n",
       " 7,\n",
       " 17,\n",
       " 17,\n",
       " 17,\n",
       " 17,\n",
       " 17,\n",
       " 17,\n",
       " 17,\n",
       " 17,\n",
       " 1,\n",
       " 17,\n",
       " 3,\n",
       " 17,\n",
       " 17,\n",
       " 17,\n",
       " 12,\n",
       " 17,\n",
       " 1,\n",
       " 17,\n",
       " 17,\n",
       " 17,\n",
       " 17,\n",
       " 17,\n",
       " 17,\n",
       " 17,\n",
       " 3,\n",
       " 1,\n",
       " 17,\n",
       " 18,\n",
       " 17,\n",
       " 17,\n",
       " 17,\n",
       " 17,\n",
       " 17,\n",
       " 17,\n",
       " 17,\n",
       " 17,\n",
       " 1,\n",
       " 17,\n",
       " 17,\n",
       " 17,\n",
       " 17,\n",
       " 17,\n",
       " 17,\n",
       " 18,\n",
       " 17,\n",
       " 17,\n",
       " 17,\n",
       " 17,\n",
       " 17,\n",
       " 1,\n",
       " 1,\n",
       " 17,\n",
       " 17,\n",
       " 1,\n",
       " 17,\n",
       " 1,\n",
       " 1,\n",
       " 12,\n",
       " 3,\n",
       " 3,\n",
       " 1,\n",
       " 17,\n",
       " 17,\n",
       " 17,\n",
       " 17,\n",
       " 17,\n",
       " 17,\n",
       " 17,\n",
       " 17,\n",
       " 17,\n",
       " 17,\n",
       " 17,\n",
       " 17,\n",
       " 3,\n",
       " 17,\n",
       " 17,\n",
       " 17,\n",
       " 17,\n",
       " 17,\n",
       " 17,\n",
       " 17,\n",
       " 17,\n",
       " 3,\n",
       " 17,\n",
       " 1,\n",
       " 17,\n",
       " 17,\n",
       " 17,\n",
       " 17,\n",
       " 17,\n",
       " 17,\n",
       " 17,\n",
       " 17,\n",
       " 17,\n",
       " 17,\n",
       " 17,\n",
       " 17,\n",
       " 17,\n",
       " 17,\n",
       " 17,\n",
       " 17,\n",
       " 17,\n",
       " 17,\n",
       " 17,\n",
       " 17,\n",
       " 17,\n",
       " 17,\n",
       " 3,\n",
       " 17,\n",
       " 17,\n",
       " 17,\n",
       " 17,\n",
       " 17,\n",
       " 17,\n",
       " 17,\n",
       " 17,\n",
       " 3,\n",
       " 17,\n",
       " 17,\n",
       " 17,\n",
       " 17,\n",
       " 17,\n",
       " 17,\n",
       " 17,\n",
       " 17,\n",
       " 17,\n",
       " 17,\n",
       " 17,\n",
       " 17,\n",
       " 12,\n",
       " 18,\n",
       " 17,\n",
       " 17,\n",
       " 17,\n",
       " 17,\n",
       " 12,\n",
       " 17,\n",
       " 8,\n",
       " 1,\n",
       " 17,\n",
       " 17,\n",
       " 17,\n",
       " 17,\n",
       " 17,\n",
       " 17,\n",
       " 17,\n",
       " 17,\n",
       " 5,\n",
       " 17,\n",
       " 3,\n",
       " 19,\n",
       " 17,\n",
       " 11,\n",
       " 13,\n",
       " 11,\n",
       " 11,\n",
       " 11,\n",
       " 5,\n",
       " 11,\n",
       " 11,\n",
       " 16,\n",
       " 11,\n",
       " 3,\n",
       " 3,\n",
       " 11,\n",
       " 11,\n",
       " 11,\n",
       " 11,\n",
       " 17,\n",
       " 11,\n",
       " 11,\n",
       " 11,\n",
       " 17,\n",
       " 5,\n",
       " 11,\n",
       " 16,\n",
       " 11,\n",
       " 16,\n",
       " 5,\n",
       " 3,\n",
       " 5,\n",
       " 16,\n",
       " 18,\n",
       " 17,\n",
       " 11,\n",
       " 11,\n",
       " 11,\n",
       " 17,\n",
       " 11,\n",
       " 11,\n",
       " 11,\n",
       " 5,\n",
       " 18,\n",
       " 11,\n",
       " 11,\n",
       " 16,\n",
       " 16,\n",
       " 16,\n",
       " 11,\n",
       " 11,\n",
       " 3,\n",
       " 16,\n",
       " 11,\n",
       " 11,\n",
       " 16,\n",
       " 11,\n",
       " 11,\n",
       " 5,\n",
       " 11,\n",
       " 11,\n",
       " 17,\n",
       " 11,\n",
       " 0,\n",
       " 11,\n",
       " 11,\n",
       " 11,\n",
       " 3,\n",
       " 11,\n",
       " 16,\n",
       " 11,\n",
       " 11,\n",
       " 17,\n",
       " 16,\n",
       " 16,\n",
       " 11,\n",
       " 11,\n",
       " 11,\n",
       " 11,\n",
       " 1,\n",
       " 5,\n",
       " 11,\n",
       " 0,\n",
       " 11,\n",
       " 11,\n",
       " 11,\n",
       " 5,\n",
       " 11,\n",
       " 5,\n",
       " 5,\n",
       " 11,\n",
       " 5,\n",
       " 3,\n",
       " 5,\n",
       " 16,\n",
       " 5,\n",
       " 11,\n",
       " 3,\n",
       " 16,\n",
       " 11,\n",
       " 13,\n",
       " 11,\n",
       " 11,\n",
       " 17,\n",
       " 17,\n",
       " 17,\n",
       " 1,\n",
       " 11,\n",
       " 11,\n",
       " 5,\n",
       " 1,\n",
       " 16,\n",
       " 16,\n",
       " 11,\n",
       " 7,\n",
       " 3,\n",
       " 0,\n",
       " 17,\n",
       " 17,\n",
       " 7,\n",
       " 3,\n",
       " 5,\n",
       " 5,\n",
       " 11,\n",
       " 3,\n",
       " 7,\n",
       " 17,\n",
       " 5,\n",
       " 11,\n",
       " 11,\n",
       " 17,\n",
       " 11,\n",
       " 0,\n",
       " 11,\n",
       " 5,\n",
       " 11,\n",
       " 17,\n",
       " 11,\n",
       " 5,\n",
       " 11,\n",
       " 11,\n",
       " 11,\n",
       " 3,\n",
       " 17,\n",
       " 11,\n",
       " 13,\n",
       " 16,\n",
       " 1,\n",
       " 17,\n",
       " 11,\n",
       " 11,\n",
       " 11,\n",
       " 11,\n",
       " 3,\n",
       " 11,\n",
       " 5,\n",
       " 11,\n",
       " 16,\n",
       " 1,\n",
       " 11,\n",
       " 1,\n",
       " 13,\n",
       " 11,\n",
       " 1,\n",
       " 11,\n",
       " 11,\n",
       " 11,\n",
       " 11,\n",
       " 1,\n",
       " 17,\n",
       " 3,\n",
       " 11,\n",
       " 5,\n",
       " 11,\n",
       " 16,\n",
       " 11,\n",
       " 6,\n",
       " 3,\n",
       " 11,\n",
       " 11,\n",
       " 16,\n",
       " 5,\n",
       " 5,\n",
       " 11,\n",
       " 11,\n",
       " 5,\n",
       " 11,\n",
       " 3,\n",
       " 5,\n",
       " 17,\n",
       " 16,\n",
       " 5,\n",
       " 1,\n",
       " 1,\n",
       " 16,\n",
       " 11,\n",
       " 13,\n",
       " 17,\n",
       " 3,\n",
       " 11,\n",
       " 17,\n",
       " 11,\n",
       " 11,\n",
       " 11,\n",
       " 11,\n",
       " 11,\n",
       " 11,\n",
       " 3,\n",
       " 7,\n",
       " 5,\n",
       " 3,\n",
       " 14,\n",
       " 11,\n",
       " 11,\n",
       " 16,\n",
       " 16,\n",
       " 11,\n",
       " 11,\n",
       " 17,\n",
       " 11,\n",
       " 16,\n",
       " 11,\n",
       " 11,\n",
       " 11,\n",
       " 11,\n",
       " 16,\n",
       " 11,\n",
       " 11,\n",
       " 11,\n",
       " 16,\n",
       " 3,\n",
       " 11,\n",
       " 11,\n",
       " 16,\n",
       " 11,\n",
       " 17,\n",
       " 11,\n",
       " 1,\n",
       " 5,\n",
       " 5,\n",
       " 11,\n",
       " 16,\n",
       " 11,\n",
       " 3,\n",
       " 16,\n",
       " 11,\n",
       " 11,\n",
       " 11,\n",
       " 17,\n",
       " 12,\n",
       " 17,\n",
       " 11,\n",
       " 11,\n",
       " 11,\n",
       " 16,\n",
       " 3,\n",
       " 16,\n",
       " 11,\n",
       " 16,\n",
       " 5,\n",
       " 3,\n",
       " 17,\n",
       " 5,\n",
       " 3,\n",
       " 1,\n",
       " 11,\n",
       " 3,\n",
       " 5,\n",
       " 16,\n",
       " 16,\n",
       " 11,\n",
       " 16,\n",
       " 1,\n",
       " 11,\n",
       " 5,\n",
       " 16,\n",
       " 3,\n",
       " 5,\n",
       " 11,\n",
       " 5,\n",
       " 11,\n",
       " 3,\n",
       " 11,\n",
       " 11,\n",
       " 11,\n",
       " 11,\n",
       " 11,\n",
       " 11,\n",
       " 11,\n",
       " 5,\n",
       " 11,\n",
       " 11,\n",
       " 8,\n",
       " 11,\n",
       " 11,\n",
       " 3,\n",
       " 11,\n",
       " 5,\n",
       " 11,\n",
       " 5,\n",
       " 11,\n",
       " 11,\n",
       " 11,\n",
       " 12,\n",
       " 11,\n",
       " 17,\n",
       " 11,\n",
       " 11,\n",
       " 17,\n",
       " 11,\n",
       " 5,\n",
       " 11,\n",
       " 11,\n",
       " 11,\n",
       " 11,\n",
       " 11,\n",
       " 11,\n",
       " 17,\n",
       " 11,\n",
       " 7,\n",
       " 7,\n",
       " 2,\n",
       " 7,\n",
       " 12,\n",
       " 2,\n",
       " 2,\n",
       " 7,\n",
       " 12,\n",
       " 2,\n",
       " 18,\n",
       " 12,\n",
       " 14,\n",
       " 2,\n",
       " 2,\n",
       " 2,\n",
       " 2,\n",
       " 12,\n",
       " 12,\n",
       " 2,\n",
       " 2,\n",
       " 18,\n",
       " 12,\n",
       " 7,\n",
       " 2,\n",
       " 18,\n",
       " 2,\n",
       " 12,\n",
       " 13,\n",
       " 12,\n",
       " 2,\n",
       " 2,\n",
       " 18,\n",
       " 7,\n",
       " 2,\n",
       " 14,\n",
       " 2,\n",
       " 2,\n",
       " 12,\n",
       " 2,\n",
       " 12,\n",
       " 7,\n",
       " 2,\n",
       " 12,\n",
       " 2,\n",
       " 7,\n",
       " 7,\n",
       " 2,\n",
       " 2,\n",
       " 2,\n",
       " 12,\n",
       " 12,\n",
       " 12,\n",
       " 19,\n",
       " 12,\n",
       " 7,\n",
       " 2,\n",
       " 2,\n",
       " 2,\n",
       " 2,\n",
       " 12,\n",
       " 12,\n",
       " 2,\n",
       " 12,\n",
       " 2,\n",
       " 7,\n",
       " 13,\n",
       " 2,\n",
       " 2,\n",
       " 12,\n",
       " 7,\n",
       " 2,\n",
       " 2,\n",
       " 2,\n",
       " 12,\n",
       " 9,\n",
       " 2,\n",
       " 12,\n",
       " 12,\n",
       " 2,\n",
       " 7,\n",
       " 2,\n",
       " 12,\n",
       " 12,\n",
       " 12,\n",
       " 2,\n",
       " 12,\n",
       " 12,\n",
       " 2,\n",
       " 7,\n",
       " 7,\n",
       " 2,\n",
       " 2,\n",
       " 2,\n",
       " 18,\n",
       " 2,\n",
       " 2,\n",
       " 2,\n",
       " 2,\n",
       " 7,\n",
       " 7,\n",
       " 12,\n",
       " 12,\n",
       " 12,\n",
       " 12,\n",
       " 2,\n",
       " 19,\n",
       " 2,\n",
       " 1,\n",
       " 12,\n",
       " 13,\n",
       " 12,\n",
       " 2,\n",
       " 2,\n",
       " 12,\n",
       " 2,\n",
       " 2,\n",
       " 2,\n",
       " 2,\n",
       " 12,\n",
       " 2,\n",
       " 12,\n",
       " 2,\n",
       " 2,\n",
       " 2,\n",
       " 12,\n",
       " 2,\n",
       " 2,\n",
       " 2,\n",
       " 2,\n",
       " 2,\n",
       " 12,\n",
       " 12,\n",
       " 2,\n",
       " 2,\n",
       " 2,\n",
       " 7,\n",
       " 12,\n",
       " 2,\n",
       " 12,\n",
       " 7,\n",
       " 3,\n",
       " 12,\n",
       " 2,\n",
       " 2,\n",
       " 2,\n",
       " 0,\n",
       " 12,\n",
       " 12,\n",
       " 12,\n",
       " 2,\n",
       " 2,\n",
       " 2,\n",
       " 2,\n",
       " 2,\n",
       " 2,\n",
       " 12,\n",
       " 2,\n",
       " 12,\n",
       " 2,\n",
       " 2,\n",
       " 2,\n",
       " 2,\n",
       " 2,\n",
       " 2,\n",
       " 2,\n",
       " 2,\n",
       " 2,\n",
       " 7,\n",
       " 2,\n",
       " 2,\n",
       " 12,\n",
       " 6,\n",
       " 12,\n",
       " 2,\n",
       " 2,\n",
       " 2,\n",
       " 2,\n",
       " 7,\n",
       " 6,\n",
       " 7,\n",
       " 2,\n",
       " 2,\n",
       " 2,\n",
       " 3,\n",
       " 2,\n",
       " 2,\n",
       " 7,\n",
       " 12,\n",
       " 2,\n",
       " 2,\n",
       " 2,\n",
       " 12,\n",
       " 7,\n",
       " 2,\n",
       " 12,\n",
       " 7,\n",
       " 2,\n",
       " 7,\n",
       " 2,\n",
       " 12,\n",
       " 2,\n",
       " 2,\n",
       " 2,\n",
       " 2,\n",
       " 2,\n",
       " 2,\n",
       " 7,\n",
       " 12,\n",
       " 2,\n",
       " 2,\n",
       " 7,\n",
       " 12,\n",
       " 19,\n",
       " 2,\n",
       " 2,\n",
       " 7,\n",
       " 2,\n",
       " 2,\n",
       " 12,\n",
       " 0,\n",
       " 12,\n",
       " 12,\n",
       " 7,\n",
       " 14,\n",
       " 7,\n",
       " 2,\n",
       " 13,\n",
       " 2,\n",
       " 3,\n",
       " 2,\n",
       " 14,\n",
       " 2,\n",
       " 12,\n",
       " 12,\n",
       " 9,\n",
       " 13,\n",
       " 1,\n",
       " 12,\n",
       " 12,\n",
       " 2,\n",
       " 2,\n",
       " 2,\n",
       " 2,\n",
       " 2,\n",
       " 2,\n",
       " 2,\n",
       " 2,\n",
       " 12,\n",
       " 12,\n",
       " 2,\n",
       " 7,\n",
       " 2,\n",
       " 2,\n",
       " 12,\n",
       " 3,\n",
       " 2,\n",
       " 2,\n",
       " 2,\n",
       " 12,\n",
       " 12,\n",
       " 12,\n",
       " 2,\n",
       " 12,\n",
       " 3,\n",
       " 2,\n",
       " 12,\n",
       " 2,\n",
       " 12,\n",
       " 13,\n",
       " 12,\n",
       " 2,\n",
       " 2,\n",
       " 3,\n",
       " 2,\n",
       " 7,\n",
       " 2,\n",
       " 12,\n",
       " 3,\n",
       " 3,\n",
       " 12,\n",
       " 12,\n",
       " 7,\n",
       " 2,\n",
       " 7,\n",
       " 2,\n",
       " 2,\n",
       " ...]"
      ]
     },
     "execution_count": 105,
     "metadata": {},
     "output_type": "execute_result"
    }
   ],
   "source": [
    "max_index_reu_top20=[]\n",
    "for document in W_reu_top20:\n",
    "    max_index_reu_top20.append(np.argmax(document))\n",
    "max_index_reu_top20"
   ]
  },
  {
   "cell_type": "code",
   "execution_count": 106,
   "id": "5dd13d6a",
   "metadata": {},
   "outputs": [
    {
     "data": {
      "text/plain": [
       "(2424,)"
      ]
     },
     "execution_count": 106,
     "metadata": {},
     "output_type": "execute_result"
    }
   ],
   "source": [
    "np.shape(max_index_reu_top20)"
   ]
  },
  {
   "cell_type": "markdown",
   "id": "1eb0d813",
   "metadata": {},
   "source": [
    "#### number of documents in each cluster"
   ]
  },
  {
   "cell_type": "code",
   "execution_count": 107,
   "id": "d9e40a46",
   "metadata": {},
   "outputs": [
    {
     "data": {
      "text/plain": [
       "array([ 19., 288., 158., 139.,  53.,  57., 113., 112., 142., 110., 126.,\n",
       "       163., 114.,  52.,  49.,  12.,  37., 403., 147., 130.])"
      ]
     },
     "execution_count": 107,
     "metadata": {},
     "output_type": "execute_result"
    }
   ],
   "source": [
    "num_of_docs_each_cluster(20,max_index_reu_top20)"
   ]
  },
  {
   "cell_type": "markdown",
   "id": "446fb0ec",
   "metadata": {},
   "source": [
    "#### purity of NMF clustering for Top 20 of Reuters"
   ]
  },
  {
   "cell_type": "code",
   "execution_count": 108,
   "id": "f097d2df",
   "metadata": {},
   "outputs": [
    {
     "data": {
      "text/plain": [
       "0.5878712871287128"
      ]
     },
     "execution_count": 108,
     "metadata": {},
     "output_type": "execute_result"
    }
   ],
   "source": [
    "purity_nmf_top20_reu=purity(20,Top20_reu_2,max_index_reu_top20)\n",
    "purity_nmf_top20_reu"
   ]
  },
  {
   "cell_type": "markdown",
   "id": "17b3c6c9",
   "metadata": {},
   "source": [
    "#### entropy of NMF clustering for Top 20 of Reuters"
   ]
  },
  {
   "cell_type": "code",
   "execution_count": 109,
   "id": "4d82aa3a",
   "metadata": {},
   "outputs": [
    {
     "data": {
      "text/plain": [
       "0.4372482361822522"
      ]
     },
     "execution_count": 109,
     "metadata": {},
     "output_type": "execute_result"
    }
   ],
   "source": [
    "entropy_nmf_top20_reu=entropy(20,Top20_reu_2,max_index_reu_top20)\n",
    "entropy_nmf_top20_reu"
   ]
  },
  {
   "cell_type": "code",
   "execution_count": 110,
   "id": "b66be934",
   "metadata": {},
   "outputs": [
    {
     "data": {
      "text/html": [
       "<div>\n",
       "<style scoped>\n",
       "    .dataframe tbody tr th:only-of-type {\n",
       "        vertical-align: middle;\n",
       "    }\n",
       "\n",
       "    .dataframe tbody tr th {\n",
       "        vertical-align: top;\n",
       "    }\n",
       "\n",
       "    .dataframe thead th {\n",
       "        text-align: right;\n",
       "    }\n",
       "</style>\n",
       "<table border=\"1\" class=\"dataframe\">\n",
       "  <thead>\n",
       "    <tr style=\"text-align: right;\">\n",
       "      <th></th>\n",
       "      <th>Data set</th>\n",
       "      <th>Kmeans_purity</th>\n",
       "      <th>Kmeans_entropy</th>\n",
       "      <th>NMF_purity</th>\n",
       "      <th>NMF_entropy</th>\n",
       "    </tr>\n",
       "  </thead>\n",
       "  <tbody>\n",
       "    <tr>\n",
       "      <th>0</th>\n",
       "      <td>TDT2_Top10</td>\n",
       "      <td>0.463382</td>\n",
       "      <td>0.669374</td>\n",
       "      <td>0.719041</td>\n",
       "      <td>0.366672</td>\n",
       "    </tr>\n",
       "    <tr>\n",
       "      <th>1</th>\n",
       "      <td>TDT2_Last10</td>\n",
       "      <td>0.376723</td>\n",
       "      <td>0.711418</td>\n",
       "      <td>0.817764</td>\n",
       "      <td>0.234414</td>\n",
       "    </tr>\n",
       "    <tr>\n",
       "      <th>2</th>\n",
       "      <td>Reuters_Top10</td>\n",
       "      <td>0.381618</td>\n",
       "      <td>0.785886</td>\n",
       "      <td>0.665335</td>\n",
       "      <td>0.440954</td>\n",
       "    </tr>\n",
       "    <tr>\n",
       "      <th>3</th>\n",
       "      <td>Reuters_Top20</td>\n",
       "      <td>0.336634</td>\n",
       "      <td>0.676531</td>\n",
       "      <td>0.587871</td>\n",
       "      <td>0.437248</td>\n",
       "    </tr>\n",
       "  </tbody>\n",
       "</table>\n",
       "</div>"
      ],
      "text/plain": [
       "        Data set  Kmeans_purity  Kmeans_entropy  NMF_purity  NMF_entropy\n",
       "0     TDT2_Top10       0.463382        0.669374    0.719041     0.366672\n",
       "1    TDT2_Last10       0.376723        0.711418    0.817764     0.234414\n",
       "2  Reuters_Top10       0.381618        0.785886    0.665335     0.440954\n",
       "3  Reuters_Top20       0.336634        0.676531    0.587871     0.437248"
      ]
     },
     "execution_count": 110,
     "metadata": {},
     "output_type": "execute_result"
    }
   ],
   "source": [
    "compare = pd.DataFrame({\n",
    "    \"Data set\": [\"TDT2_Top10\",\"TDT2_Last10\",\"Reuters_Top10\",\"Reuters_Top20\"],\n",
    "    \"Kmeans_purity\": [purity_kmeans_top10_tdt2,purity_kmeans_last10_tdt2,purity_kmeans_top10_reu,purity_kmeans_top20_reu],\n",
    "    \"Kmeans_entropy\": [entropy_kmeans_top10_tdt2,entropy_kmeans_last10_tdt2,entropy_kmeans_top10_reu,entropy_kmeans_top20_reu],\n",
    "    \"NMF_purity\": [purity_nmf_top10_tdt2,purity_nmf_last10_tdt2,purity_nmf_top10_reu,purity_nmf_top20_reu],\n",
    "    \"NMF_entropy\": [entropy_nmf_top10_tdt2,entropy_nmf_last10_tdt2,entropy_nmf_top10_reu,entropy_nmf_top20_reu]\n",
    "})\n",
    "compare"
   ]
  },
  {
   "cell_type": "code",
   "execution_count": null,
   "id": "f0c02d70",
   "metadata": {},
   "outputs": [],
   "source": []
  }
 ],
 "metadata": {
  "kernelspec": {
   "display_name": "Python 3 (ipykernel)",
   "language": "python",
   "name": "python3"
  },
  "language_info": {
   "codemirror_mode": {
    "name": "ipython",
    "version": 3
   },
   "file_extension": ".py",
   "mimetype": "text/x-python",
   "name": "python",
   "nbconvert_exporter": "python",
   "pygments_lexer": "ipython3",
   "version": "3.9.7"
  }
 },
 "nbformat": 4,
 "nbformat_minor": 5
}
